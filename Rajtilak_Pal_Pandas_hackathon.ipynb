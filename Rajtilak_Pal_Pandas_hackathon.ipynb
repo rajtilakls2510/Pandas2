{
  "nbformat": 4,
  "nbformat_minor": 0,
  "metadata": {
    "colab": {
      "name": "Rajtilak Pal - Pandas-hackathon.ipynb",
      "provenance": [],
      "collapsed_sections": []
    },
    "kernelspec": {
      "name": "python3",
      "display_name": "Python 3"
    }
  },
  "cells": [
    {
      "cell_type": "code",
      "metadata": {
        "id": "xPPSWe9Uop0U",
        "colab_type": "code",
        "colab": {}
      },
      "source": [
        ""
      ],
      "execution_count": 0,
      "outputs": []
    },
    {
      "cell_type": "markdown",
      "metadata": {
        "id": "MPo4XkxnGVL8",
        "colab_type": "text"
      },
      "source": [
        "# Improve CampusX\n",
        "\n",
        "## Instructions\n",
        "\n",
        "1. You have to submit your solutions before **6:00pm tomorrow**\n",
        "2. The problems that I have given(**except the 1st one**) are problems with which we are also dealing with. So, in a way we are asking for your help through this hackathon.\n",
        "3. To be honest solving even a single question is a big deal in the given time duration. So, please don't get **frustrated** if you are not able to solve even one problem. \n",
        "4. A request - **don't quit**. Infact **never quit**.\n",
        "5. Marking Scheme for this hackathon is as follows\n",
        "**Total Marks=200**\n",
        "but, while adding this to your dashboard, your total marks will be divided by a **factor of 10**.\n",
        "So, let's say you scored 90 in the hackathon, you dashboard score would be 9\n",
        "6. Top 3 performers will get a **prize**, when we will meet next.Promise:)\n"
      ]
    },
    {
      "cell_type": "code",
      "metadata": {
        "id": "Bb0I3u1jGS76",
        "colab_type": "code",
        "colab": {}
      },
      "source": [
        "import pandas as pd\n",
        "import numpy as np\n",
        "import matplotlib.pyplot as plt"
      ],
      "execution_count": 0,
      "outputs": []
    },
    {
      "cell_type": "code",
      "metadata": {
        "id": "B7WNmbkuGWXV",
        "colab_type": "code",
        "colab": {}
      },
      "source": [
        "batch=pd.read_csv('batch.csv')\n",
        "batch_task=pd.read_csv('batch_task.csv')\n",
        "content=pd.read_csv('content.csv')\n",
        "course=pd.read_csv('course.csv')\n",
        "evaluation=pd.read_csv('evaluation.csv')\n",
        "gyan=pd.read_csv('gyan.csv')\n",
        "link_preview=pd.read_csv('link_preview_details.csv')\n",
        "module=pd.read_csv('module.csv')\n",
        "myday=pd.read_csv('myday.csv')\n",
        "tasks=pd.read_csv('tasks.csv')\n",
        "url_task=pd.read_csv('url_task.csv')\n",
        "users=pd.read_csv('users.csv')"
      ],
      "execution_count": 0,
      "outputs": []
    },
    {
      "cell_type": "markdown",
      "metadata": {
        "id": "xvYTsxrjJfTY",
        "colab_type": "text"
      },
      "source": [
        "**Lets see the data first**"
      ]
    },
    {
      "cell_type": "code",
      "metadata": {
        "id": "wGt6CIrfJnKL",
        "colab_type": "code",
        "outputId": "08384e5d-5afb-444f-a0d0-3e85edc97162",
        "colab": {
          "base_uri": "https://localhost:8080/",
          "height": 133
        }
      },
      "source": [
        "batch"
      ],
      "execution_count": 0,
      "outputs": [
        {
          "output_type": "execute_result",
          "data": {
            "text/html": [
              "<div>\n",
              "<style scoped>\n",
              "    .dataframe tbody tr th:only-of-type {\n",
              "        vertical-align: middle;\n",
              "    }\n",
              "\n",
              "    .dataframe tbody tr th {\n",
              "        vertical-align: top;\n",
              "    }\n",
              "\n",
              "    .dataframe thead th {\n",
              "        text-align: right;\n",
              "    }\n",
              "</style>\n",
              "<table border=\"1\" class=\"dataframe\">\n",
              "  <thead>\n",
              "    <tr style=\"text-align: right;\">\n",
              "      <th></th>\n",
              "      <th>batch_id</th>\n",
              "      <th>batch_name</th>\n",
              "      <th>batch_start_date</th>\n",
              "    </tr>\n",
              "  </thead>\n",
              "  <tbody>\n",
              "    <tr>\n",
              "      <th>0</th>\n",
              "      <td>1</td>\n",
              "      <td>Machine Learning Kolkata 1</td>\n",
              "      <td>2020-01-01</td>\n",
              "    </tr>\n",
              "    <tr>\n",
              "      <th>1</th>\n",
              "      <td>2</td>\n",
              "      <td>Machine Learning HIT 1</td>\n",
              "      <td>2020-01-01</td>\n",
              "    </tr>\n",
              "    <tr>\n",
              "      <th>2</th>\n",
              "      <td>3</td>\n",
              "      <td>Machine Learning Kolkata 2</td>\n",
              "      <td>2020-01-19</td>\n",
              "    </tr>\n",
              "  </tbody>\n",
              "</table>\n",
              "</div>"
            ],
            "text/plain": [
              "   batch_id                  batch_name batch_start_date\n",
              "0         1  Machine Learning Kolkata 1       2020-01-01\n",
              "1         2      Machine Learning HIT 1       2020-01-01\n",
              "2         3  Machine Learning Kolkata 2       2020-01-19"
            ]
          },
          "metadata": {
            "tags": []
          },
          "execution_count": 182
        }
      ]
    },
    {
      "cell_type": "code",
      "metadata": {
        "id": "Y15tywjKJsAp",
        "colab_type": "code",
        "outputId": "56ad35cd-1c79-4885-b13f-89e2a006edee",
        "colab": {
          "base_uri": "https://localhost:8080/",
          "height": 191
        }
      },
      "source": [
        "batch_task.head()"
      ],
      "execution_count": 0,
      "outputs": [
        {
          "output_type": "execute_result",
          "data": {
            "text/html": [
              "<div>\n",
              "<style scoped>\n",
              "    .dataframe tbody tr th:only-of-type {\n",
              "        vertical-align: middle;\n",
              "    }\n",
              "\n",
              "    .dataframe tbody tr th {\n",
              "        vertical-align: top;\n",
              "    }\n",
              "\n",
              "    .dataframe thead th {\n",
              "        text-align: right;\n",
              "    }\n",
              "</style>\n",
              "<table border=\"1\" class=\"dataframe\">\n",
              "  <thead>\n",
              "    <tr style=\"text-align: right;\">\n",
              "      <th></th>\n",
              "      <th>bt_id</th>\n",
              "      <th>batch_id</th>\n",
              "      <th>task_id</th>\n",
              "    </tr>\n",
              "  </thead>\n",
              "  <tbody>\n",
              "    <tr>\n",
              "      <th>0</th>\n",
              "      <td>1</td>\n",
              "      <td>1</td>\n",
              "      <td>1</td>\n",
              "    </tr>\n",
              "    <tr>\n",
              "      <th>1</th>\n",
              "      <td>2</td>\n",
              "      <td>1</td>\n",
              "      <td>2</td>\n",
              "    </tr>\n",
              "    <tr>\n",
              "      <th>2</th>\n",
              "      <td>3</td>\n",
              "      <td>1</td>\n",
              "      <td>3</td>\n",
              "    </tr>\n",
              "    <tr>\n",
              "      <th>3</th>\n",
              "      <td>5</td>\n",
              "      <td>2</td>\n",
              "      <td>11</td>\n",
              "    </tr>\n",
              "    <tr>\n",
              "      <th>4</th>\n",
              "      <td>6</td>\n",
              "      <td>1</td>\n",
              "      <td>16</td>\n",
              "    </tr>\n",
              "  </tbody>\n",
              "</table>\n",
              "</div>"
            ],
            "text/plain": [
              "   bt_id  batch_id  task_id\n",
              "0      1         1        1\n",
              "1      2         1        2\n",
              "2      3         1        3\n",
              "3      5         2       11\n",
              "4      6         1       16"
            ]
          },
          "metadata": {
            "tags": []
          },
          "execution_count": 183
        }
      ]
    },
    {
      "cell_type": "code",
      "metadata": {
        "id": "PkYl4n8CJ_5-",
        "colab_type": "code",
        "outputId": "b64b1c04-748c-4067-85a0-e817c160c23d",
        "colab": {
          "base_uri": "https://localhost:8080/",
          "height": 191
        }
      },
      "source": [
        "content.head()"
      ],
      "execution_count": 0,
      "outputs": [
        {
          "output_type": "execute_result",
          "data": {
            "text/html": [
              "<div>\n",
              "<style scoped>\n",
              "    .dataframe tbody tr th:only-of-type {\n",
              "        vertical-align: middle;\n",
              "    }\n",
              "\n",
              "    .dataframe tbody tr th {\n",
              "        vertical-align: top;\n",
              "    }\n",
              "\n",
              "    .dataframe thead th {\n",
              "        text-align: right;\n",
              "    }\n",
              "</style>\n",
              "<table border=\"1\" class=\"dataframe\">\n",
              "  <thead>\n",
              "    <tr style=\"text-align: right;\">\n",
              "      <th></th>\n",
              "      <th>content_id</th>\n",
              "      <th>course_id</th>\n",
              "      <th>batch_id</th>\n",
              "      <th>content_type</th>\n",
              "      <th>content_name</th>\n",
              "      <th>url</th>\n",
              "    </tr>\n",
              "  </thead>\n",
              "  <tbody>\n",
              "    <tr>\n",
              "      <th>0</th>\n",
              "      <td>5</td>\n",
              "      <td>1</td>\n",
              "      <td>3</td>\n",
              "      <td>Video</td>\n",
              "      <td>Introduction to Numpy</td>\n",
              "      <td>https://www.youtube.com/watch?v=CpPLLp3snK4</td>\n",
              "    </tr>\n",
              "    <tr>\n",
              "      <th>1</th>\n",
              "      <td>6</td>\n",
              "      <td>1</td>\n",
              "      <td>3</td>\n",
              "      <td>Video</td>\n",
              "      <td>Installing Jupyter Notebook</td>\n",
              "      <td>https://www.youtube.com/watch?v=r7SmXZEtB0I</td>\n",
              "    </tr>\n",
              "    <tr>\n",
              "      <th>2</th>\n",
              "      <td>7</td>\n",
              "      <td>1</td>\n",
              "      <td>3</td>\n",
              "      <td>Video</td>\n",
              "      <td>Creating Numpy Arrays</td>\n",
              "      <td>https://www.youtube.com/watch?v=9TKpRnoEb5s</td>\n",
              "    </tr>\n",
              "    <tr>\n",
              "      <th>3</th>\n",
              "      <td>8</td>\n",
              "      <td>1</td>\n",
              "      <td>3</td>\n",
              "      <td>Task</td>\n",
              "      <td>Assignment 1 - Numpy</td>\n",
              "      <td>https://classroom.google.com/u/1/c/NTAwMjkyMjg...</td>\n",
              "    </tr>\n",
              "    <tr>\n",
              "      <th>4</th>\n",
              "      <td>10</td>\n",
              "      <td>1</td>\n",
              "      <td>3</td>\n",
              "      <td>Video</td>\n",
              "      <td>Numpy - Important Attributes</td>\n",
              "      <td>https://www.youtube.com/watch?v=ikx70DFC2T8</td>\n",
              "    </tr>\n",
              "  </tbody>\n",
              "</table>\n",
              "</div>"
            ],
            "text/plain": [
              "   content_id  ...                                                url\n",
              "0           5  ...        https://www.youtube.com/watch?v=CpPLLp3snK4\n",
              "1           6  ...        https://www.youtube.com/watch?v=r7SmXZEtB0I\n",
              "2           7  ...        https://www.youtube.com/watch?v=9TKpRnoEb5s\n",
              "3           8  ...  https://classroom.google.com/u/1/c/NTAwMjkyMjg...\n",
              "4          10  ...        https://www.youtube.com/watch?v=ikx70DFC2T8\n",
              "\n",
              "[5 rows x 6 columns]"
            ]
          },
          "metadata": {
            "tags": []
          },
          "execution_count": 184
        }
      ]
    },
    {
      "cell_type": "code",
      "metadata": {
        "id": "ThL1TYhnKIuE",
        "colab_type": "code",
        "outputId": "d728bf30-a8ed-4f59-e931-432cfb66b3f1",
        "colab": {
          "base_uri": "https://localhost:8080/",
          "height": 133
        }
      },
      "source": [
        "course"
      ],
      "execution_count": 0,
      "outputs": [
        {
          "output_type": "execute_result",
          "data": {
            "text/html": [
              "<div>\n",
              "<style scoped>\n",
              "    .dataframe tbody tr th:only-of-type {\n",
              "        vertical-align: middle;\n",
              "    }\n",
              "\n",
              "    .dataframe tbody tr th {\n",
              "        vertical-align: top;\n",
              "    }\n",
              "\n",
              "    .dataframe thead th {\n",
              "        text-align: right;\n",
              "    }\n",
              "</style>\n",
              "<table border=\"1\" class=\"dataframe\">\n",
              "  <thead>\n",
              "    <tr style=\"text-align: right;\">\n",
              "      <th></th>\n",
              "      <th>course_id</th>\n",
              "      <th>course_name</th>\n",
              "    </tr>\n",
              "  </thead>\n",
              "  <tbody>\n",
              "    <tr>\n",
              "      <th>0</th>\n",
              "      <td>1</td>\n",
              "      <td>Numpy</td>\n",
              "    </tr>\n",
              "    <tr>\n",
              "      <th>1</th>\n",
              "      <td>2</td>\n",
              "      <td>Pandas</td>\n",
              "    </tr>\n",
              "    <tr>\n",
              "      <th>2</th>\n",
              "      <td>3</td>\n",
              "      <td>K Nearest Neighbors</td>\n",
              "    </tr>\n",
              "  </tbody>\n",
              "</table>\n",
              "</div>"
            ],
            "text/plain": [
              "   course_id          course_name\n",
              "0          1                Numpy\n",
              "1          2               Pandas\n",
              "2          3  K Nearest Neighbors"
            ]
          },
          "metadata": {
            "tags": []
          },
          "execution_count": 185
        }
      ]
    },
    {
      "cell_type": "code",
      "metadata": {
        "id": "-4kiYP-4KIH9",
        "colab_type": "code",
        "outputId": "2b5e103e-f6e1-449b-fc40-568b062f4ac3",
        "colab": {
          "base_uri": "https://localhost:8080/",
          "height": 391
        }
      },
      "source": [
        "evaluation"
      ],
      "execution_count": 0,
      "outputs": [
        {
          "output_type": "execute_result",
          "data": {
            "text/html": [
              "<div>\n",
              "<style scoped>\n",
              "    .dataframe tbody tr th:only-of-type {\n",
              "        vertical-align: middle;\n",
              "    }\n",
              "\n",
              "    .dataframe tbody tr th {\n",
              "        vertical-align: top;\n",
              "    }\n",
              "\n",
              "    .dataframe thead th {\n",
              "        text-align: right;\n",
              "    }\n",
              "</style>\n",
              "<table border=\"1\" class=\"dataframe\">\n",
              "  <thead>\n",
              "    <tr style=\"text-align: right;\">\n",
              "      <th></th>\n",
              "      <th>e_id</th>\n",
              "      <th>task_id</th>\n",
              "      <th>user_id</th>\n",
              "      <th>evaluation_date</th>\n",
              "      <th>late</th>\n",
              "      <th>score</th>\n",
              "      <th>winner</th>\n",
              "    </tr>\n",
              "  </thead>\n",
              "  <tbody>\n",
              "    <tr>\n",
              "      <th>0</th>\n",
              "      <td>1</td>\n",
              "      <td>16</td>\n",
              "      <td>9</td>\n",
              "      <td>2020-01-09</td>\n",
              "      <td>0</td>\n",
              "      <td>29.0</td>\n",
              "      <td>0</td>\n",
              "    </tr>\n",
              "    <tr>\n",
              "      <th>1</th>\n",
              "      <td>2</td>\n",
              "      <td>1</td>\n",
              "      <td>18</td>\n",
              "      <td>2020-01-09</td>\n",
              "      <td>0</td>\n",
              "      <td>32.0</td>\n",
              "      <td>0</td>\n",
              "    </tr>\n",
              "    <tr>\n",
              "      <th>2</th>\n",
              "      <td>3</td>\n",
              "      <td>16</td>\n",
              "      <td>6</td>\n",
              "      <td>2020-01-09</td>\n",
              "      <td>0</td>\n",
              "      <td>28.0</td>\n",
              "      <td>0</td>\n",
              "    </tr>\n",
              "    <tr>\n",
              "      <th>3</th>\n",
              "      <td>4</td>\n",
              "      <td>16</td>\n",
              "      <td>10</td>\n",
              "      <td>2020-01-09</td>\n",
              "      <td>0</td>\n",
              "      <td>32.0</td>\n",
              "      <td>0</td>\n",
              "    </tr>\n",
              "    <tr>\n",
              "      <th>4</th>\n",
              "      <td>5</td>\n",
              "      <td>1</td>\n",
              "      <td>5</td>\n",
              "      <td>2020-01-09</td>\n",
              "      <td>0</td>\n",
              "      <td>33.0</td>\n",
              "      <td>1</td>\n",
              "    </tr>\n",
              "    <tr>\n",
              "      <th>...</th>\n",
              "      <td>...</td>\n",
              "      <td>...</td>\n",
              "      <td>...</td>\n",
              "      <td>...</td>\n",
              "      <td>...</td>\n",
              "      <td>...</td>\n",
              "      <td>...</td>\n",
              "    </tr>\n",
              "    <tr>\n",
              "      <th>431</th>\n",
              "      <td>434</td>\n",
              "      <td>29</td>\n",
              "      <td>70</td>\n",
              "      <td>2020-02-22</td>\n",
              "      <td>1</td>\n",
              "      <td>7.5</td>\n",
              "      <td>0</td>\n",
              "    </tr>\n",
              "    <tr>\n",
              "      <th>432</th>\n",
              "      <td>435</td>\n",
              "      <td>27</td>\n",
              "      <td>102</td>\n",
              "      <td>2020-02-22</td>\n",
              "      <td>1</td>\n",
              "      <td>8.0</td>\n",
              "      <td>0</td>\n",
              "    </tr>\n",
              "    <tr>\n",
              "      <th>433</th>\n",
              "      <td>436</td>\n",
              "      <td>27</td>\n",
              "      <td>85</td>\n",
              "      <td>2020-02-24</td>\n",
              "      <td>1</td>\n",
              "      <td>8.0</td>\n",
              "      <td>0</td>\n",
              "    </tr>\n",
              "    <tr>\n",
              "      <th>434</th>\n",
              "      <td>437</td>\n",
              "      <td>29</td>\n",
              "      <td>85</td>\n",
              "      <td>2020-02-24</td>\n",
              "      <td>1</td>\n",
              "      <td>9.5</td>\n",
              "      <td>0</td>\n",
              "    </tr>\n",
              "    <tr>\n",
              "      <th>435</th>\n",
              "      <td>438</td>\n",
              "      <td>29</td>\n",
              "      <td>79</td>\n",
              "      <td>2020-02-24</td>\n",
              "      <td>1</td>\n",
              "      <td>9.0</td>\n",
              "      <td>0</td>\n",
              "    </tr>\n",
              "  </tbody>\n",
              "</table>\n",
              "<p>436 rows × 7 columns</p>\n",
              "</div>"
            ],
            "text/plain": [
              "     e_id  task_id  user_id evaluation_date  late  score  winner\n",
              "0       1       16        9      2020-01-09     0   29.0       0\n",
              "1       2        1       18      2020-01-09     0   32.0       0\n",
              "2       3       16        6      2020-01-09     0   28.0       0\n",
              "3       4       16       10      2020-01-09     0   32.0       0\n",
              "4       5        1        5      2020-01-09     0   33.0       1\n",
              "..    ...      ...      ...             ...   ...    ...     ...\n",
              "431   434       29       70      2020-02-22     1    7.5       0\n",
              "432   435       27      102      2020-02-22     1    8.0       0\n",
              "433   436       27       85      2020-02-24     1    8.0       0\n",
              "434   437       29       85      2020-02-24     1    9.5       0\n",
              "435   438       29       79      2020-02-24     1    9.0       0\n",
              "\n",
              "[436 rows x 7 columns]"
            ]
          },
          "metadata": {
            "tags": []
          },
          "execution_count": 186
        }
      ]
    },
    {
      "cell_type": "code",
      "metadata": {
        "id": "So5_uk2cKH-0",
        "colab_type": "code",
        "outputId": "5ae83606-2268-4442-fbab-ce71c0967019",
        "colab": {
          "base_uri": "https://localhost:8080/",
          "height": 191
        }
      },
      "source": [
        "gyan.head()"
      ],
      "execution_count": 0,
      "outputs": [
        {
          "output_type": "execute_result",
          "data": {
            "text/html": [
              "<div>\n",
              "<style scoped>\n",
              "    .dataframe tbody tr th:only-of-type {\n",
              "        vertical-align: middle;\n",
              "    }\n",
              "\n",
              "    .dataframe tbody tr th {\n",
              "        vertical-align: top;\n",
              "    }\n",
              "\n",
              "    .dataframe thead th {\n",
              "        text-align: right;\n",
              "    }\n",
              "</style>\n",
              "<table border=\"1\" class=\"dataframe\">\n",
              "  <thead>\n",
              "    <tr style=\"text-align: right;\">\n",
              "      <th></th>\n",
              "      <th>gyan_id</th>\n",
              "      <th>user_id</th>\n",
              "      <th>submission_date</th>\n",
              "      <th>link</th>\n",
              "      <th>category</th>\n",
              "    </tr>\n",
              "  </thead>\n",
              "  <tbody>\n",
              "    <tr>\n",
              "      <th>0</th>\n",
              "      <td>1</td>\n",
              "      <td>5</td>\n",
              "      <td>2019-08-09</td>\n",
              "      <td>https://www.linkedin.com/posts/bharat-patidar-...</td>\n",
              "      <td>General</td>\n",
              "    </tr>\n",
              "    <tr>\n",
              "      <th>1</th>\n",
              "      <td>2</td>\n",
              "      <td>13</td>\n",
              "      <td>2019-08-09</td>\n",
              "      <td>https://deepmind.com/blog/article/using-machin...</td>\n",
              "      <td>General</td>\n",
              "    </tr>\n",
              "    <tr>\n",
              "      <th>2</th>\n",
              "      <td>3</td>\n",
              "      <td>16</td>\n",
              "      <td>2019-08-09</td>\n",
              "      <td>https://towardsdatascience.com/how-to-meaningf...</td>\n",
              "      <td>Data Science</td>\n",
              "    </tr>\n",
              "    <tr>\n",
              "      <th>3</th>\n",
              "      <td>4</td>\n",
              "      <td>15</td>\n",
              "      <td>2019-08-09</td>\n",
              "      <td>https://ai.googleblog.com/2019/08/video-unders...</td>\n",
              "      <td>Artificial Intelligence</td>\n",
              "    </tr>\n",
              "    <tr>\n",
              "      <th>4</th>\n",
              "      <td>5</td>\n",
              "      <td>14</td>\n",
              "      <td>2019-08-09</td>\n",
              "      <td>https://www.indiatoday.in/education-today/feat...</td>\n",
              "      <td>General</td>\n",
              "    </tr>\n",
              "  </tbody>\n",
              "</table>\n",
              "</div>"
            ],
            "text/plain": [
              "   gyan_id  ...                 category\n",
              "0        1  ...                  General\n",
              "1        2  ...                  General\n",
              "2        3  ...             Data Science\n",
              "3        4  ...  Artificial Intelligence\n",
              "4        5  ...                  General\n",
              "\n",
              "[5 rows x 5 columns]"
            ]
          },
          "metadata": {
            "tags": []
          },
          "execution_count": 187
        }
      ]
    },
    {
      "cell_type": "code",
      "metadata": {
        "id": "UD46JtmZKHeR",
        "colab_type": "code",
        "outputId": "40d6ebc0-9539-42ce-dc8b-6d5c1e9f5680",
        "colab": {
          "base_uri": "https://localhost:8080/",
          "height": 272
        }
      },
      "source": [
        "link_preview.head()"
      ],
      "execution_count": 0,
      "outputs": [
        {
          "output_type": "execute_result",
          "data": {
            "text/html": [
              "<div>\n",
              "<style scoped>\n",
              "    .dataframe tbody tr th:only-of-type {\n",
              "        vertical-align: middle;\n",
              "    }\n",
              "\n",
              "    .dataframe tbody tr th {\n",
              "        vertical-align: top;\n",
              "    }\n",
              "\n",
              "    .dataframe thead th {\n",
              "        text-align: right;\n",
              "    }\n",
              "</style>\n",
              "<table border=\"1\" class=\"dataframe\">\n",
              "  <thead>\n",
              "    <tr style=\"text-align: right;\">\n",
              "      <th></th>\n",
              "      <th>link</th>\n",
              "      <th>image</th>\n",
              "      <th>title</th>\n",
              "      <th>description</th>\n",
              "      <th>url</th>\n",
              "    </tr>\n",
              "  </thead>\n",
              "  <tbody>\n",
              "    <tr>\n",
              "      <th>0</th>\n",
              "      <td>Big social media companies may be asked to mai...</td>\n",
              "      <td>https://img.etimg.com/thumb/msid-73741024,widt...</td>\n",
              "      <td>Big social media companies may be asked to mai...</td>\n",
              "      <td>The Information Technology (IT) ministry has p...</td>\n",
              "      <td>https://economictimes.indiatimes.com/tech/inte...</td>\n",
              "    </tr>\n",
              "    <tr>\n",
              "      <th>1</th>\n",
              "      <td>From Discover on Google https://analyticsindia...</td>\n",
              "      <td>https://mk0analyticsindf35n9.kinstacdn.com/wp-...</td>\n",
              "      <td>A Complete Guide To Data Science Career Path –...</td>\n",
              "      <td>India is rising and shining bright when it com...</td>\n",
              "      <td>https://analyticsindiamag.com/a-complete-guide...</td>\n",
              "    </tr>\n",
              "    <tr>\n",
              "      <th>2</th>\n",
              "      <td>From Discover on Google https://analyticsindia...</td>\n",
              "      <td>https://mk0analyticsindf35n9.kinstacdn.com/wp-...</td>\n",
              "      <td>Top Skills To Show On Your Data Science Resume...</td>\n",
              "      <td>With the evolving data science landscape, orga...</td>\n",
              "      <td>https://analyticsindiamag.com/top-skills-to-sh...</td>\n",
              "    </tr>\n",
              "    <tr>\n",
              "      <th>3</th>\n",
              "      <td>From Discover on Google https://blogs.scientif...</td>\n",
              "      <td>https://static.scientificamerican.com/blogs/ca...</td>\n",
              "      <td>I Know Some Algorithms Are Biased—because I Cr...</td>\n",
              "      <td>Doing so was inadvertent, but it taught me an ...</td>\n",
              "      <td>https://blogs.scientificamerican.com/voices/i-...</td>\n",
              "    </tr>\n",
              "    <tr>\n",
              "      <th>4</th>\n",
              "      <td>From Discover on Google https://devblogs.micro...</td>\n",
              "      <td>https://devblogs.microsoft.com/cppblog/wp-cont...</td>\n",
              "      <td>CMake, Linux targeting, and IntelliSense impro...</td>\n",
              "      <td>Visual Studio’s native support for CMake allow...</td>\n",
              "      <td>https://devblogs.microsoft.com/cppblog/cmake-l...</td>\n",
              "    </tr>\n",
              "  </tbody>\n",
              "</table>\n",
              "</div>"
            ],
            "text/plain": [
              "                                                link  ...                                                url\n",
              "0  Big social media companies may be asked to mai...  ...  https://economictimes.indiatimes.com/tech/inte...\n",
              "1  From Discover on Google https://analyticsindia...  ...  https://analyticsindiamag.com/a-complete-guide...\n",
              "2  From Discover on Google https://analyticsindia...  ...  https://analyticsindiamag.com/top-skills-to-sh...\n",
              "3  From Discover on Google https://blogs.scientif...  ...  https://blogs.scientificamerican.com/voices/i-...\n",
              "4  From Discover on Google https://devblogs.micro...  ...  https://devblogs.microsoft.com/cppblog/cmake-l...\n",
              "\n",
              "[5 rows x 5 columns]"
            ]
          },
          "metadata": {
            "tags": []
          },
          "execution_count": 188
        }
      ]
    },
    {
      "cell_type": "code",
      "metadata": {
        "id": "8xwV2L_3KHL1",
        "colab_type": "code",
        "outputId": "54d9cb0e-bc55-4398-c666-89a06d612529",
        "colab": {
          "base_uri": "https://localhost:8080/",
          "height": 162
        }
      },
      "source": [
        "module"
      ],
      "execution_count": 0,
      "outputs": [
        {
          "output_type": "execute_result",
          "data": {
            "text/html": [
              "<div>\n",
              "<style scoped>\n",
              "    .dataframe tbody tr th:only-of-type {\n",
              "        vertical-align: middle;\n",
              "    }\n",
              "\n",
              "    .dataframe tbody tr th {\n",
              "        vertical-align: top;\n",
              "    }\n",
              "\n",
              "    .dataframe thead th {\n",
              "        text-align: right;\n",
              "    }\n",
              "</style>\n",
              "<table border=\"1\" class=\"dataframe\">\n",
              "  <thead>\n",
              "    <tr style=\"text-align: right;\">\n",
              "      <th></th>\n",
              "      <th>module_id</th>\n",
              "      <th>module_name</th>\n",
              "    </tr>\n",
              "  </thead>\n",
              "  <tbody>\n",
              "    <tr>\n",
              "      <th>0</th>\n",
              "      <td>1</td>\n",
              "      <td>Profile Building</td>\n",
              "    </tr>\n",
              "    <tr>\n",
              "      <th>1</th>\n",
              "      <td>2</td>\n",
              "      <td>Data Science</td>\n",
              "    </tr>\n",
              "    <tr>\n",
              "      <th>2</th>\n",
              "      <td>3</td>\n",
              "      <td>Machine Learning</td>\n",
              "    </tr>\n",
              "    <tr>\n",
              "      <th>3</th>\n",
              "      <td>4</td>\n",
              "      <td>Data Analytics</td>\n",
              "    </tr>\n",
              "  </tbody>\n",
              "</table>\n",
              "</div>"
            ],
            "text/plain": [
              "   module_id       module_name\n",
              "0          1  Profile Building\n",
              "1          2      Data Science\n",
              "2          3  Machine Learning\n",
              "3          4    Data Analytics"
            ]
          },
          "metadata": {
            "tags": []
          },
          "execution_count": 189
        }
      ]
    },
    {
      "cell_type": "code",
      "metadata": {
        "id": "lxzbwGiYKdNA",
        "colab_type": "code",
        "outputId": "f00edb08-3ff2-4dd5-8b00-cfa0cd1ff908",
        "colab": {
          "base_uri": "https://localhost:8080/",
          "height": 191
        }
      },
      "source": [
        "myday.tail()"
      ],
      "execution_count": 0,
      "outputs": [
        {
          "output_type": "execute_result",
          "data": {
            "text/html": [
              "<div>\n",
              "<style scoped>\n",
              "    .dataframe tbody tr th:only-of-type {\n",
              "        vertical-align: middle;\n",
              "    }\n",
              "\n",
              "    .dataframe tbody tr th {\n",
              "        vertical-align: top;\n",
              "    }\n",
              "\n",
              "    .dataframe thead th {\n",
              "        text-align: right;\n",
              "    }\n",
              "</style>\n",
              "<table border=\"1\" class=\"dataframe\">\n",
              "  <thead>\n",
              "    <tr style=\"text-align: right;\">\n",
              "      <th></th>\n",
              "      <th>myday_id</th>\n",
              "      <th>user_id</th>\n",
              "      <th>entry_date</th>\n",
              "      <th>entry</th>\n",
              "    </tr>\n",
              "  </thead>\n",
              "  <tbody>\n",
              "    <tr>\n",
              "      <th>995</th>\n",
              "      <td>1002</td>\n",
              "      <td>84</td>\n",
              "      <td>2020-02-06</td>\n",
              "      <td>&lt;p&gt;Starting with the new assignment&lt;/p&gt;</td>\n",
              "    </tr>\n",
              "    <tr>\n",
              "      <th>996</th>\n",
              "      <td>1003</td>\n",
              "      <td>83</td>\n",
              "      <td>2020-02-06</td>\n",
              "      <td>&lt;p&gt;Work!&lt;/p&gt;</td>\n",
              "    </tr>\n",
              "    <tr>\n",
              "      <th>997</th>\n",
              "      <td>1004</td>\n",
              "      <td>38</td>\n",
              "      <td>2020-02-06</td>\n",
              "      <td>&lt;p&gt;Travelled&lt;br&gt;&lt;/p&gt;</td>\n",
              "    </tr>\n",
              "    <tr>\n",
              "      <th>998</th>\n",
              "      <td>1005</td>\n",
              "      <td>85</td>\n",
              "      <td>2020-02-06</td>\n",
              "      <td>&lt;p&gt;Hit the gym.&lt;/p&gt;</td>\n",
              "    </tr>\n",
              "    <tr>\n",
              "      <th>999</th>\n",
              "      <td>1006</td>\n",
              "      <td>72</td>\n",
              "      <td>2020-02-06</td>\n",
              "      <td>&lt;p&gt;Bangladesh vs Newzealand U19 WC&lt;/p&gt;</td>\n",
              "    </tr>\n",
              "  </tbody>\n",
              "</table>\n",
              "</div>"
            ],
            "text/plain": [
              "     myday_id  user_id  entry_date                                    entry\n",
              "995      1002       84  2020-02-06  <p>Starting with the new assignment</p>\n",
              "996      1003       83  2020-02-06                             <p>Work!</p>\n",
              "997      1004       38  2020-02-06                     <p>Travelled<br></p>\n",
              "998      1005       85  2020-02-06                      <p>Hit the gym.</p>\n",
              "999      1006       72  2020-02-06   <p>Bangladesh vs Newzealand U19 WC</p>"
            ]
          },
          "metadata": {
            "tags": []
          },
          "execution_count": 190
        }
      ]
    },
    {
      "cell_type": "code",
      "metadata": {
        "id": "1ILitWZDKeMb",
        "colab_type": "code",
        "outputId": "77b8cad2-d202-4017-c695-c382ae59cfe4",
        "colab": {
          "base_uri": "https://localhost:8080/",
          "height": 910
        }
      },
      "source": [
        "tasks"
      ],
      "execution_count": 0,
      "outputs": [
        {
          "output_type": "execute_result",
          "data": {
            "text/html": [
              "<div>\n",
              "<style scoped>\n",
              "    .dataframe tbody tr th:only-of-type {\n",
              "        vertical-align: middle;\n",
              "    }\n",
              "\n",
              "    .dataframe tbody tr th {\n",
              "        vertical-align: top;\n",
              "    }\n",
              "\n",
              "    .dataframe thead th {\n",
              "        text-align: right;\n",
              "    }\n",
              "</style>\n",
              "<table border=\"1\" class=\"dataframe\">\n",
              "  <thead>\n",
              "    <tr style=\"text-align: right;\">\n",
              "      <th></th>\n",
              "      <th>task_id</th>\n",
              "      <th>type</th>\n",
              "      <th>task_name</th>\n",
              "      <th>module_id</th>\n",
              "      <th>task_details</th>\n",
              "      <th>qualities</th>\n",
              "      <th>total</th>\n",
              "    </tr>\n",
              "  </thead>\n",
              "  <tbody>\n",
              "    <tr>\n",
              "      <th>0</th>\n",
              "      <td>1</td>\n",
              "      <td>Task</td>\n",
              "      <td>Linkedin Profile create/update</td>\n",
              "      <td>1</td>\n",
              "      <td>A good Linkedin profile might look like this h...</td>\n",
              "      <td>Intent, Creativity,Content</td>\n",
              "      <td>10</td>\n",
              "    </tr>\n",
              "    <tr>\n",
              "      <th>1</th>\n",
              "      <td>2</td>\n",
              "      <td>Task</td>\n",
              "      <td>Blog on Machine Learning and it's impact</td>\n",
              "      <td>2</td>\n",
              "      <td>First, you have to explain ML as if you are ex...</td>\n",
              "      <td>Knowledge,Understanding,Communication,Analytic...</td>\n",
              "      <td>25</td>\n",
              "    </tr>\n",
              "    <tr>\n",
              "      <th>2</th>\n",
              "      <td>3</td>\n",
              "      <td>Task</td>\n",
              "      <td>Blog on Different data based job roles</td>\n",
              "      <td>2</td>\n",
              "      <td>I would recommend doing proper research on the...</td>\n",
              "      <td>Knowledge,Understanding,Communication,Analytic...</td>\n",
              "      <td>25</td>\n",
              "    </tr>\n",
              "    <tr>\n",
              "      <th>3</th>\n",
              "      <td>4</td>\n",
              "      <td>Task</td>\n",
              "      <td>Portfolio home page</td>\n",
              "      <td>1</td>\n",
              "      <td>The home section will have an informal sort of...</td>\n",
              "      <td>sincerity,Creativity,Design-sense,Writing</td>\n",
              "      <td>15</td>\n",
              "    </tr>\n",
              "    <tr>\n",
              "      <th>4</th>\n",
              "      <td>5</td>\n",
              "      <td>Task</td>\n",
              "      <td>Video Resume</td>\n",
              "      <td>1</td>\n",
              "      <td>Don't get too technical with the details, the ...</td>\n",
              "      <td>Creativity,Communication,Intent,Confidence</td>\n",
              "      <td>20</td>\n",
              "    </tr>\n",
              "    <tr>\n",
              "      <th>5</th>\n",
              "      <td>6</td>\n",
              "      <td>Task</td>\n",
              "      <td>Online Resume</td>\n",
              "      <td>1</td>\n",
              "      <td>You have to add a resume page to your portfoli...</td>\n",
              "      <td>Creativity,Intent,sincerity</td>\n",
              "      <td>20</td>\n",
              "    </tr>\n",
              "    <tr>\n",
              "      <th>6</th>\n",
              "      <td>7</td>\n",
              "      <td>Task</td>\n",
              "      <td>Blog and Project Pages</td>\n",
              "      <td>1</td>\n",
              "      <td>You have to add 2 more pages to your 'Portfoli...</td>\n",
              "      <td>Creativity, Intent</td>\n",
              "      <td>10</td>\n",
              "    </tr>\n",
              "    <tr>\n",
              "      <th>7</th>\n",
              "      <td>8</td>\n",
              "      <td>Task</td>\n",
              "      <td>Github Profile Creation</td>\n",
              "      <td>1</td>\n",
              "      <td>You have to create your Github profile and upl...</td>\n",
              "      <td>Sincerity,Hard-work</td>\n",
              "      <td>10</td>\n",
              "    </tr>\n",
              "    <tr>\n",
              "      <th>8</th>\n",
              "      <td>9</td>\n",
              "      <td>Task</td>\n",
              "      <td>Blog on Data Analysis Process</td>\n",
              "      <td>4</td>\n",
              "      <td>You have to write a blog describing the The Da...</td>\n",
              "      <td>Analysis, communication, sincerity</td>\n",
              "      <td>30</td>\n",
              "    </tr>\n",
              "    <tr>\n",
              "      <th>9</th>\n",
              "      <td>10</td>\n",
              "      <td>Task</td>\n",
              "      <td>PPT Submission</td>\n",
              "      <td>3</td>\n",
              "      <td>Submit the first draft of your ppt for Sunday'...</td>\n",
              "      <td>Diligence</td>\n",
              "      <td>5</td>\n",
              "    </tr>\n",
              "    <tr>\n",
              "      <th>10</th>\n",
              "      <td>11</td>\n",
              "      <td>Task</td>\n",
              "      <td>Startup/Countries dataset</td>\n",
              "      <td>4</td>\n",
              "      <td>You have to do a data analysis on one of the f...</td>\n",
              "      <td>Analytical sense, writing ability</td>\n",
              "      <td>50</td>\n",
              "    </tr>\n",
              "    <tr>\n",
              "      <th>11</th>\n",
              "      <td>12</td>\n",
              "      <td>Task</td>\n",
              "      <td>Web Scraping</td>\n",
              "      <td>4</td>\n",
              "      <td>Create a dataframe by web scraping IMDB top 25...</td>\n",
              "      <td>Coding skills</td>\n",
              "      <td>10</td>\n",
              "    </tr>\n",
              "    <tr>\n",
              "      <th>12</th>\n",
              "      <td>13</td>\n",
              "      <td>Task</td>\n",
              "      <td>Fetching data from an API</td>\n",
              "      <td>4</td>\n",
              "      <td>In this small task you have to fetch data from...</td>\n",
              "      <td>Coding</td>\n",
              "      <td>15</td>\n",
              "    </tr>\n",
              "    <tr>\n",
              "      <th>13</th>\n",
              "      <td>14</td>\n",
              "      <td>Task</td>\n",
              "      <td>Batsman Vs Bowler</td>\n",
              "      <td>2</td>\n",
              "      <td>Here is a very interesting task for you...\\nRe...</td>\n",
              "      <td>Analytical Skills, Statistics</td>\n",
              "      <td>20</td>\n",
              "    </tr>\n",
              "    <tr>\n",
              "      <th>14</th>\n",
              "      <td>16</td>\n",
              "      <td>Task</td>\n",
              "      <td>You have to Data Analysis on Stackoverflow dat...</td>\n",
              "      <td>4</td>\n",
              "      <td>1. For this code, you will do your entire anal...</td>\n",
              "      <td>Analysis</td>\n",
              "      <td>40</td>\n",
              "    </tr>\n",
              "    <tr>\n",
              "      <th>15</th>\n",
              "      <td>17</td>\n",
              "      <td>Task</td>\n",
              "      <td>Create a Tableau Dashboard using the OLIST Dat...</td>\n",
              "      <td>1</td>\n",
              "      <td>Marking Scheme Quality of analysis : 15 and us...</td>\n",
              "      <td>Analysis</td>\n",
              "      <td>20</td>\n",
              "    </tr>\n",
              "    <tr>\n",
              "      <th>16</th>\n",
              "      <td>18</td>\n",
              "      <td>Assignment</td>\n",
              "      <td>Find accuracy of IRIS dataset using KNN and al...</td>\n",
              "      <td>2</td>\n",
              "      <td>You have to create a Knn classifier on the Iri...</td>\n",
              "      <td>Intelligence</td>\n",
              "      <td>10</td>\n",
              "    </tr>\n",
              "    <tr>\n",
              "      <th>17</th>\n",
              "      <td>19</td>\n",
              "      <td>Project</td>\n",
              "      <td>Titanic survival challenge</td>\n",
              "      <td>3</td>\n",
              "      <td>You have to participate in the kaggle Titianic...</td>\n",
              "      <td>Analysis, Creativity</td>\n",
              "      <td>25</td>\n",
              "    </tr>\n",
              "    <tr>\n",
              "      <th>18</th>\n",
              "      <td>20</td>\n",
              "      <td>Task</td>\n",
              "      <td>Create a Postgres Database using the recipe da...</td>\n",
              "      <td>2</td>\n",
              "      <td>https://www.kaggle.com/kaggle/recipe-ingredien...</td>\n",
              "      <td>Inteligence,Analytical</td>\n",
              "      <td>10</td>\n",
              "    </tr>\n",
              "    <tr>\n",
              "      <th>19</th>\n",
              "      <td>21</td>\n",
              "      <td>Task</td>\n",
              "      <td>ML #2 Task #1 Making the html pages for</td>\n",
              "      <td>4</td>\n",
              "      <td>You have to create 2 html pages for your Miles...</td>\n",
              "      <td>Dedication, design sense</td>\n",
              "      <td>10</td>\n",
              "    </tr>\n",
              "    <tr>\n",
              "      <th>20</th>\n",
              "      <td>22</td>\n",
              "      <td>Task</td>\n",
              "      <td>ML #2 Task #2 Create schema of Milestone proje...</td>\n",
              "      <td>4</td>\n",
              "      <td>Generate schema of your Milestone project.</td>\n",
              "      <td>Intent</td>\n",
              "      <td>10</td>\n",
              "    </tr>\n",
              "    <tr>\n",
              "      <th>21</th>\n",
              "      <td>23</td>\n",
              "      <td>Task</td>\n",
              "      <td>Video Resume</td>\n",
              "      <td>1</td>\n",
              "      <td>You have to make a video resume for yourself</td>\n",
              "      <td>Intent</td>\n",
              "      <td>20</td>\n",
              "    </tr>\n",
              "    <tr>\n",
              "      <th>22</th>\n",
              "      <td>24</td>\n",
              "      <td>Task</td>\n",
              "      <td>Flask app on AWS Beanstalk</td>\n",
              "      <td>2</td>\n",
              "      <td>Create a flask app and upload it on AWS Beanstalk</td>\n",
              "      <td>Diligence</td>\n",
              "      <td>10</td>\n",
              "    </tr>\n",
              "    <tr>\n",
              "      <th>23</th>\n",
              "      <td>25</td>\n",
              "      <td>Task</td>\n",
              "      <td>ML#2 Task #4 Add login and registration functi...</td>\n",
              "      <td>2</td>\n",
              "      <td>You have to add login and registration functio...</td>\n",
              "      <td>Diligence, Hardwork</td>\n",
              "      <td>15</td>\n",
              "    </tr>\n",
              "    <tr>\n",
              "      <th>24</th>\n",
              "      <td>26</td>\n",
              "      <td>Assignment</td>\n",
              "      <td>Numpy Assignment 1</td>\n",
              "      <td>2</td>\n",
              "      <td>Replicate the linspace function in numpy</td>\n",
              "      <td>Diligence</td>\n",
              "      <td>10</td>\n",
              "    </tr>\n",
              "    <tr>\n",
              "      <th>25</th>\n",
              "      <td>27</td>\n",
              "      <td>Assignment</td>\n",
              "      <td>Numpy Assignment 2</td>\n",
              "      <td>2</td>\n",
              "      <td>Solve the 5 questions related to Numpy</td>\n",
              "      <td>Diligence, Effiecient</td>\n",
              "      <td>10</td>\n",
              "    </tr>\n",
              "    <tr>\n",
              "      <th>26</th>\n",
              "      <td>28</td>\n",
              "      <td>Task</td>\n",
              "      <td>Task on SQL queries</td>\n",
              "      <td>2</td>\n",
              "      <td>Solve the given queries in a table</td>\n",
              "      <td>Diligence, Efficiency</td>\n",
              "      <td>10</td>\n",
              "    </tr>\n",
              "    <tr>\n",
              "      <th>27</th>\n",
              "      <td>29</td>\n",
              "      <td>Assignment</td>\n",
              "      <td>Numpy Assignment 3</td>\n",
              "      <td>2</td>\n",
              "      <td>Solve the 5 questions related to Numpy</td>\n",
              "      <td>Diligence, Efficiency</td>\n",
              "      <td>10</td>\n",
              "    </tr>\n",
              "    <tr>\n",
              "      <th>28</th>\n",
              "      <td>30</td>\n",
              "      <td>Assignment</td>\n",
              "      <td>Numpy Assignment 4</td>\n",
              "      <td>2</td>\n",
              "      <td>Solve the questions related to Numpy</td>\n",
              "      <td>Diligence, Efficiency</td>\n",
              "      <td>10</td>\n",
              "    </tr>\n",
              "    <tr>\n",
              "      <th>29</th>\n",
              "      <td>31</td>\n",
              "      <td>Quiz/Assessment</td>\n",
              "      <td>Numpy Assessment</td>\n",
              "      <td>2</td>\n",
              "      <td>Numpy Assesment</td>\n",
              "      <td>Diligence</td>\n",
              "      <td>30</td>\n",
              "    </tr>\n",
              "  </tbody>\n",
              "</table>\n",
              "</div>"
            ],
            "text/plain": [
              "    task_id  ... total\n",
              "0         1  ...    10\n",
              "1         2  ...    25\n",
              "2         3  ...    25\n",
              "3         4  ...    15\n",
              "4         5  ...    20\n",
              "5         6  ...    20\n",
              "6         7  ...    10\n",
              "7         8  ...    10\n",
              "8         9  ...    30\n",
              "9        10  ...     5\n",
              "10       11  ...    50\n",
              "11       12  ...    10\n",
              "12       13  ...    15\n",
              "13       14  ...    20\n",
              "14       16  ...    40\n",
              "15       17  ...    20\n",
              "16       18  ...    10\n",
              "17       19  ...    25\n",
              "18       20  ...    10\n",
              "19       21  ...    10\n",
              "20       22  ...    10\n",
              "21       23  ...    20\n",
              "22       24  ...    10\n",
              "23       25  ...    15\n",
              "24       26  ...    10\n",
              "25       27  ...    10\n",
              "26       28  ...    10\n",
              "27       29  ...    10\n",
              "28       30  ...    10\n",
              "29       31  ...    30\n",
              "\n",
              "[30 rows x 7 columns]"
            ]
          },
          "metadata": {
            "tags": []
          },
          "execution_count": 191
        }
      ]
    },
    {
      "cell_type": "code",
      "metadata": {
        "id": "PJy3oz1vKdBa",
        "colab_type": "code",
        "outputId": "cc37e6c1-899b-4428-f6d4-3e96f0cf627e",
        "colab": {
          "base_uri": "https://localhost:8080/",
          "height": 191
        }
      },
      "source": [
        "url_task.head()"
      ],
      "execution_count": 0,
      "outputs": [
        {
          "output_type": "execute_result",
          "data": {
            "text/html": [
              "<div>\n",
              "<style scoped>\n",
              "    .dataframe tbody tr th:only-of-type {\n",
              "        vertical-align: middle;\n",
              "    }\n",
              "\n",
              "    .dataframe tbody tr th {\n",
              "        vertical-align: top;\n",
              "    }\n",
              "\n",
              "    .dataframe thead th {\n",
              "        text-align: right;\n",
              "    }\n",
              "</style>\n",
              "<table border=\"1\" class=\"dataframe\">\n",
              "  <thead>\n",
              "    <tr style=\"text-align: right;\">\n",
              "      <th></th>\n",
              "      <th>url_id</th>\n",
              "      <th>user_id</th>\n",
              "      <th>task_id</th>\n",
              "      <th>url</th>\n",
              "    </tr>\n",
              "  </thead>\n",
              "  <tbody>\n",
              "    <tr>\n",
              "      <th>0</th>\n",
              "      <td>1</td>\n",
              "      <td>56</td>\n",
              "      <td>18</td>\n",
              "      <td>www.google.com</td>\n",
              "    </tr>\n",
              "    <tr>\n",
              "      <th>1</th>\n",
              "      <td>2</td>\n",
              "      <td>56</td>\n",
              "      <td>18</td>\n",
              "      <td>www.facebook.com</td>\n",
              "    </tr>\n",
              "    <tr>\n",
              "      <th>2</th>\n",
              "      <td>3</td>\n",
              "      <td>56</td>\n",
              "      <td>18</td>\n",
              "      <td>www.yahoo.com</td>\n",
              "    </tr>\n",
              "    <tr>\n",
              "      <th>3</th>\n",
              "      <td>4</td>\n",
              "      <td>56</td>\n",
              "      <td>17</td>\n",
              "      <td>NaN</td>\n",
              "    </tr>\n",
              "    <tr>\n",
              "      <th>4</th>\n",
              "      <td>5</td>\n",
              "      <td>11</td>\n",
              "      <td>19</td>\n",
              "      <td>NaN</td>\n",
              "    </tr>\n",
              "  </tbody>\n",
              "</table>\n",
              "</div>"
            ],
            "text/plain": [
              "   url_id  user_id  task_id               url\n",
              "0       1       56       18    www.google.com\n",
              "1       2       56       18  www.facebook.com\n",
              "2       3       56       18     www.yahoo.com\n",
              "3       4       56       17               NaN\n",
              "4       5       11       19               NaN"
            ]
          },
          "metadata": {
            "tags": []
          },
          "execution_count": 192
        }
      ]
    },
    {
      "cell_type": "code",
      "metadata": {
        "id": "a0Dzyp_nKr_n",
        "colab_type": "code",
        "outputId": "382eb1c6-625f-4d95-f59f-325fdc4b96ff",
        "colab": {
          "base_uri": "https://localhost:8080/",
          "height": 455
        }
      },
      "source": [
        "users.head()"
      ],
      "execution_count": 0,
      "outputs": [
        {
          "output_type": "execute_result",
          "data": {
            "text/html": [
              "<div>\n",
              "<style scoped>\n",
              "    .dataframe tbody tr th:only-of-type {\n",
              "        vertical-align: middle;\n",
              "    }\n",
              "\n",
              "    .dataframe tbody tr th {\n",
              "        vertical-align: top;\n",
              "    }\n",
              "\n",
              "    .dataframe thead th {\n",
              "        text-align: right;\n",
              "    }\n",
              "</style>\n",
              "<table border=\"1\" class=\"dataframe\">\n",
              "  <thead>\n",
              "    <tr style=\"text-align: right;\">\n",
              "      <th></th>\n",
              "      <th>user_id</th>\n",
              "      <th>batch_id</th>\n",
              "      <th>fname</th>\n",
              "      <th>lname</th>\n",
              "      <th>email</th>\n",
              "      <th>dp</th>\n",
              "      <th>college</th>\n",
              "      <th>passing_year</th>\n",
              "      <th>branch</th>\n",
              "      <th>github</th>\n",
              "      <th>medium</th>\n",
              "      <th>portfolio</th>\n",
              "      <th>linkedin</th>\n",
              "      <th>youtube</th>\n",
              "    </tr>\n",
              "  </thead>\n",
              "  <tbody>\n",
              "    <tr>\n",
              "      <th>0</th>\n",
              "      <td>1</td>\n",
              "      <td>1</td>\n",
              "      <td>Durga</td>\n",
              "      <td>Agarwal</td>\n",
              "      <td>durgaa219@gmail.com</td>\n",
              "      <td>https://campus-x-profile-images.s3.ap-south-1....</td>\n",
              "      <td>UEM, Kolkata</td>\n",
              "      <td>2021</td>\n",
              "      <td>CSE</td>\n",
              "      <td>https://github.com/durgaag</td>\n",
              "      <td>https://medium.com/@durgaa219</td>\n",
              "      <td>https://sites.google.com/view/durgaag-portfoli...</td>\n",
              "      <td>https://www.linkedin.com/in/durga-agarwal-5282...</td>\n",
              "      <td>yTv0fB3WJA4</td>\n",
              "    </tr>\n",
              "    <tr>\n",
              "      <th>1</th>\n",
              "      <td>2</td>\n",
              "      <td>1</td>\n",
              "      <td>Sharika</td>\n",
              "      <td>Anjum Mondal</td>\n",
              "      <td>sharikaanjumm@gmail.com</td>\n",
              "      <td>https://campus-x-profile-images.s3.ap-south-1....</td>\n",
              "      <td>Amity University, Kolkata</td>\n",
              "      <td>2022</td>\n",
              "      <td>ECE</td>\n",
              "      <td>https://github.com/sharika-anjum</td>\n",
              "      <td>https://medium.com/@sharikaanjumm</td>\n",
              "      <td>https://sites.google.com/view/sharikas-portfolio</td>\n",
              "      <td>https://www.linkedin.com/in/sharika-anjum-mond...</td>\n",
              "      <td>4egY7Fw2eqQ</td>\n",
              "    </tr>\n",
              "    <tr>\n",
              "      <th>2</th>\n",
              "      <td>3</td>\n",
              "      <td>1</td>\n",
              "      <td>Swaastick</td>\n",
              "      <td>Singh</td>\n",
              "      <td>meightpc@gmail.com</td>\n",
              "      <td>https://campus-x-profile-images.s3.ap-south-1....</td>\n",
              "      <td>Amity University, Kolkata</td>\n",
              "      <td>2022</td>\n",
              "      <td>CSE</td>\n",
              "      <td>https://github.com/mightomi</td>\n",
              "      <td>https://medium.com/@meightpc_14421</td>\n",
              "      <td>https://sites.google.com/view/meight/home</td>\n",
              "      <td>https://www.linkedin.com/in/swaastick/</td>\n",
              "      <td>e6Wl1q5SeqI</td>\n",
              "    </tr>\n",
              "    <tr>\n",
              "      <th>3</th>\n",
              "      <td>4</td>\n",
              "      <td>1</td>\n",
              "      <td>Apurwa</td>\n",
              "      <td>Arya</td>\n",
              "      <td>aryaapurwa08@gmail.com</td>\n",
              "      <td>https://campus-x-profile-images.s3.ap-south-1....</td>\n",
              "      <td>UEM, Kolkata</td>\n",
              "      <td>2021</td>\n",
              "      <td>CSE</td>\n",
              "      <td>https://github.com/aryaapurwa08</td>\n",
              "      <td>https://medium.com/@aryaapurwa08</td>\n",
              "      <td>https://sites.google.com/view/apurwaaryaeportf...</td>\n",
              "      <td>https://www.linkedin.com/in/apurwa-arya-2b9988157</td>\n",
              "      <td>R_HsgPelIsI</td>\n",
              "    </tr>\n",
              "    <tr>\n",
              "      <th>4</th>\n",
              "      <td>5</td>\n",
              "      <td>1</td>\n",
              "      <td>Purbita</td>\n",
              "      <td>Sur</td>\n",
              "      <td>purbita1998@gmail.com</td>\n",
              "      <td>https://campus-x-profile-images.s3.ap-south-1....</td>\n",
              "      <td>Amity University, Kolkata</td>\n",
              "      <td>2021</td>\n",
              "      <td>CSE</td>\n",
              "      <td>https://github.com/purbita-sur</td>\n",
              "      <td>https://medium.com/@purbita1998</td>\n",
              "      <td>https://sites.google.com/view/purbitasur/home</td>\n",
              "      <td>https://www.linkedin.com/in/purbita-sur</td>\n",
              "      <td>-OGeu5RQ00w</td>\n",
              "    </tr>\n",
              "  </tbody>\n",
              "</table>\n",
              "</div>"
            ],
            "text/plain": [
              "   user_id  ...      youtube\n",
              "0        1  ...  yTv0fB3WJA4\n",
              "1        2  ...  4egY7Fw2eqQ\n",
              "2        3  ...  e6Wl1q5SeqI\n",
              "3        4  ...  R_HsgPelIsI\n",
              "4        5  ...  -OGeu5RQ00w\n",
              "\n",
              "[5 rows x 14 columns]"
            ]
          },
          "metadata": {
            "tags": []
          },
          "execution_count": 193
        }
      ]
    },
    {
      "cell_type": "markdown",
      "metadata": {
        "id": "1bmAsu9joWkp",
        "colab_type": "text"
      },
      "source": [
        "**Too many dataframes. Lets look at the columns only**"
      ]
    },
    {
      "cell_type": "code",
      "metadata": {
        "id": "oMZVc4WiKrsj",
        "colab_type": "code",
        "outputId": "81545149-64a0-44f6-afba-4879439ca848",
        "colab": {
          "base_uri": "https://localhost:8080/",
          "height": 358
        }
      },
      "source": [
        "print(batch.columns)\n",
        "print(batch_task.columns)\n",
        "print(content.columns)\n",
        "print(course.columns)\n",
        "print(evaluation.columns)\n",
        "print(gyan.columns)\n",
        "print(link_preview.columns)\n",
        "print(module.columns)\n",
        "print(myday.columns)\n",
        "print(tasks.columns)\n",
        "print(url_task.columns)\n",
        "print(users.columns)\n"
      ],
      "execution_count": 0,
      "outputs": [
        {
          "output_type": "stream",
          "text": [
            "Index(['batch_id', 'batch_name', 'batch_start_date'], dtype='object')\n",
            "Index(['bt_id', 'batch_id', 'task_id'], dtype='object')\n",
            "Index(['content_id', 'course_id', 'batch_id', 'content_type', 'content_name',\n",
            "       'url'],\n",
            "      dtype='object')\n",
            "Index(['course_id', 'course_name'], dtype='object')\n",
            "Index(['e_id', 'task_id', 'user_id', 'evaluation_date', 'late', 'score',\n",
            "       'winner'],\n",
            "      dtype='object')\n",
            "Index(['gyan_id', 'user_id', 'submission_date', 'link', 'category'], dtype='object')\n",
            "Index(['link', 'image', 'title', 'description', 'url'], dtype='object')\n",
            "Index(['module_id', 'module_name'], dtype='object')\n",
            "Index(['myday_id', 'user_id', 'entry_date', 'entry'], dtype='object')\n",
            "Index(['task_id', 'type', 'task_name', 'module_id', 'task_details',\n",
            "       'qualities', 'total'],\n",
            "      dtype='object')\n",
            "Index(['url_id', 'user_id', 'task_id', 'url'], dtype='object')\n",
            "Index(['user_id', 'batch_id', 'fname', 'lname', 'email', 'dp', 'college',\n",
            "       'passing_year', 'branch', 'github', 'medium', 'portfolio', 'linkedin',\n",
            "       'youtube'],\n",
            "      dtype='object')\n"
          ],
          "name": "stdout"
        }
      ]
    },
    {
      "cell_type": "code",
      "metadata": {
        "id": "t1FFYDo6jR9k",
        "colab_type": "code",
        "colab": {}
      },
      "source": [
        ""
      ],
      "execution_count": 0,
      "outputs": []
    },
    {
      "cell_type": "code",
      "metadata": {
        "id": "Fc5GM5UJjPcN",
        "colab_type": "code",
        "colab": {}
      },
      "source": [
        ""
      ],
      "execution_count": 0,
      "outputs": []
    },
    {
      "cell_type": "markdown",
      "metadata": {
        "id": "J0fvZDeaGdu9",
        "colab_type": "text"
      },
      "source": [
        "**Problem 1** : Write a python function which will receive 3 input i.e. batch name, start date and end date and returns the leaderboard(in that date window) of that particular batch with the following pieces of info - Name, Marks(till now)\n",
        "\n",
        "Note: If no date range is provided, show the leaderboard for the entire duration of the course\n",
        "\n",
        "**Marks -10**"
      ]
    },
    {
      "cell_type": "code",
      "metadata": {
        "id": "M5mpxSKkG6Lt",
        "colab_type": "code",
        "colab": {}
      },
      "source": [
        "# Write your code here\n",
        "\n",
        "# First of all: the leaderboard is based on the score. Not only from the task score but also by sharing gyan and myday. I am taking into account all of them.\n",
        "\n",
        "\n",
        "# Converting the Date columns to pandas datetime which will help us in accessing the dates\n",
        "evaluation['evaluation_date']=pd.to_datetime(evaluation['evaluation_date'])\n",
        "gyan['submission_date']=pd.to_datetime(gyan['submission_date'])\n",
        "myday['entry_date']=pd.to_datetime(myday['entry_date'])\n"
      ],
      "execution_count": 0,
      "outputs": []
    },
    {
      "cell_type": "code",
      "metadata": {
        "id": "MYGBJf-8VEyy",
        "colab_type": "code",
        "colab": {}
      },
      "source": [
        "\n",
        "def leader_board(batch_name,start_date=None,end_date=None):\n",
        "\n",
        "  # Extracting batch id from batch name\n",
        "  try:\n",
        "    batch_id=batch[batch['batch_name']==batch_name]['batch_id'].values[0]\n",
        "  except:\n",
        "    return 'Batch not Found! Enter correct batch name'\n",
        "\n",
        "  # If start date is present, converting it to pandas datetime or batch start date\n",
        "  if start_date:\n",
        "    if type(start_date)==pd._libs.tslibs.timestamps.Timestamp:\n",
        "      pass\n",
        "    else:\n",
        "      start_date=pd.to_datetime(start_date)\n",
        "  else:\n",
        "    start_date=pd.to_datetime(batch[batch['batch_id']==batch_id]['batch_start_date'].values[0])\n",
        "  \n",
        "  # If end date is present, converting it to pandas datetime otherwise taking current time\n",
        "  if end_date:\n",
        "    if type(end_date)==pd._libs.tslibs.timestamps.Timestamp:\n",
        "      pass\n",
        "    else:\n",
        "      end_date=pd.to_datetime(end_date)\n",
        "  else:\n",
        "    end_date=pd.to_datetime('today')\n",
        "\n",
        "  # Filtering the data by date\n",
        "  eval_date_filtered=evaluation[(evaluation['evaluation_date'].dt.date>=start_date) & (evaluation['evaluation_date'].dt.date<=end_date)]\n",
        "  gyan_date_filtered=gyan[(gyan['submission_date'].dt.date>=start_date) & (gyan['submission_date'].dt.date<=end_date)]\n",
        "  myday_date_filtered=myday[(myday['entry_date'].dt.date>=start_date) & (myday['entry_date'].dt.date<=end_date)]\n",
        "  \n",
        "  # Extracting the user ids from the particular batch\n",
        "  user_ids=users[users['batch_id']==batch_id]['user_id'].values\n",
        "\n",
        "  # Getting the users from that particular batch only from the user ids\n",
        "  task_eval=eval_date_filtered[eval_date_filtered['user_id'].isin(user_ids)]\n",
        "  gyan_eval=gyan_date_filtered[gyan_date_filtered['user_id'].isin(user_ids)]\n",
        "  myday_eval=myday_date_filtered[myday_date_filtered['user_id'].isin(user_ids)]\n",
        "\n",
        "  # Adding the scores for the tasks\n",
        "  task_eval=task_eval.groupby('user_id').sum()['score'].sort_values(ascending=False).reset_index()\n",
        "  # Counting the gyans shared\n",
        "  gyan_eval=gyan_eval.groupby('user_id').count()['gyan_id'].sort_values(ascending=False).reset_index()\n",
        "  # Counting the mydays shared\n",
        "  myday_eval=myday_eval.groupby('user_id').count()['myday_id'].sort_values(ascending=False).reset_index()\n",
        "  \n",
        "  # Merging the three dataframes to one \n",
        "  task_eval=task_eval.merge(gyan_eval,on='user_id',how='outer')\n",
        "  task_eval=task_eval.merge(myday_eval,on='user_id',how='outer')\n",
        "  task_eval.fillna(0,inplace=True)\n",
        "\n",
        "\n",
        "  # Adding the scores, gyan count and myday count of every user\n",
        "  task_eval['total']=task_eval['score']+task_eval['gyan_id']+task_eval['myday_id']\n",
        "\n",
        "  # Selecting top 10 users on the basis on total score\n",
        "  winners=task_eval.sort_values('total',ascending=False)[['user_id','total']]\n",
        "\n",
        "  # Getting the names of the winners\n",
        "  names=users[users['user_id'].isin(winners['user_id'])][['fname','user_id']]\n",
        "\n",
        "  # Merging the names of the users and returning the dataframe\n",
        "  return winners.merge(names,on='user_id')\n",
        "\n"
      ],
      "execution_count": 0,
      "outputs": []
    },
    {
      "cell_type": "code",
      "metadata": {
        "id": "UYt8endgckuk",
        "colab_type": "code",
        "outputId": "0dae31de-4da8-4301-a246-74fa3b07fed8",
        "colab": {
          "base_uri": "https://localhost:8080/",
          "height": 1000
        }
      },
      "source": [
        "leader_board('Machine Learning Kolkata 2')"
      ],
      "execution_count": 0,
      "outputs": [
        {
          "output_type": "execute_result",
          "data": {
            "text/html": [
              "<div>\n",
              "<style scoped>\n",
              "    .dataframe tbody tr th:only-of-type {\n",
              "        vertical-align: middle;\n",
              "    }\n",
              "\n",
              "    .dataframe tbody tr th {\n",
              "        vertical-align: top;\n",
              "    }\n",
              "\n",
              "    .dataframe thead th {\n",
              "        text-align: right;\n",
              "    }\n",
              "</style>\n",
              "<table border=\"1\" class=\"dataframe\">\n",
              "  <thead>\n",
              "    <tr style=\"text-align: right;\">\n",
              "      <th></th>\n",
              "      <th>user_id</th>\n",
              "      <th>total</th>\n",
              "      <th>fname</th>\n",
              "    </tr>\n",
              "  </thead>\n",
              "  <tbody>\n",
              "    <tr>\n",
              "      <th>0</th>\n",
              "      <td>75</td>\n",
              "      <td>196.5</td>\n",
              "      <td>Ritwik</td>\n",
              "    </tr>\n",
              "    <tr>\n",
              "      <th>1</th>\n",
              "      <td>76</td>\n",
              "      <td>193.0</td>\n",
              "      <td>Ritik</td>\n",
              "    </tr>\n",
              "    <tr>\n",
              "      <th>2</th>\n",
              "      <td>90</td>\n",
              "      <td>190.5</td>\n",
              "      <td>Ritayan</td>\n",
              "    </tr>\n",
              "    <tr>\n",
              "      <th>3</th>\n",
              "      <td>78</td>\n",
              "      <td>189.0</td>\n",
              "      <td>Balaka</td>\n",
              "    </tr>\n",
              "    <tr>\n",
              "      <th>4</th>\n",
              "      <td>87</td>\n",
              "      <td>188.5</td>\n",
              "      <td>Alekhyo</td>\n",
              "    </tr>\n",
              "    <tr>\n",
              "      <th>5</th>\n",
              "      <td>104</td>\n",
              "      <td>187.5</td>\n",
              "      <td>Priscila</td>\n",
              "    </tr>\n",
              "    <tr>\n",
              "      <th>6</th>\n",
              "      <td>96</td>\n",
              "      <td>184.0</td>\n",
              "      <td>Srijani</td>\n",
              "    </tr>\n",
              "    <tr>\n",
              "      <th>7</th>\n",
              "      <td>93</td>\n",
              "      <td>183.0</td>\n",
              "      <td>Writuparna</td>\n",
              "    </tr>\n",
              "    <tr>\n",
              "      <th>8</th>\n",
              "      <td>68</td>\n",
              "      <td>182.5</td>\n",
              "      <td>Tuhin</td>\n",
              "    </tr>\n",
              "    <tr>\n",
              "      <th>9</th>\n",
              "      <td>77</td>\n",
              "      <td>182.0</td>\n",
              "      <td>Rajtilak</td>\n",
              "    </tr>\n",
              "    <tr>\n",
              "      <th>10</th>\n",
              "      <td>105</td>\n",
              "      <td>178.5</td>\n",
              "      <td>GAZAL</td>\n",
              "    </tr>\n",
              "    <tr>\n",
              "      <th>11</th>\n",
              "      <td>72</td>\n",
              "      <td>177.5</td>\n",
              "      <td>Suman</td>\n",
              "    </tr>\n",
              "    <tr>\n",
              "      <th>12</th>\n",
              "      <td>82</td>\n",
              "      <td>176.5</td>\n",
              "      <td>Diganta</td>\n",
              "    </tr>\n",
              "    <tr>\n",
              "      <th>13</th>\n",
              "      <td>89</td>\n",
              "      <td>176.5</td>\n",
              "      <td>Rima</td>\n",
              "    </tr>\n",
              "    <tr>\n",
              "      <th>14</th>\n",
              "      <td>81</td>\n",
              "      <td>176.0</td>\n",
              "      <td>SHUBHOBRATA</td>\n",
              "    </tr>\n",
              "    <tr>\n",
              "      <th>15</th>\n",
              "      <td>88</td>\n",
              "      <td>175.5</td>\n",
              "      <td>Satyaki</td>\n",
              "    </tr>\n",
              "    <tr>\n",
              "      <th>16</th>\n",
              "      <td>84</td>\n",
              "      <td>173.0</td>\n",
              "      <td>Madhuparna</td>\n",
              "    </tr>\n",
              "    <tr>\n",
              "      <th>17</th>\n",
              "      <td>83</td>\n",
              "      <td>172.0</td>\n",
              "      <td>Sanaa</td>\n",
              "    </tr>\n",
              "    <tr>\n",
              "      <th>18</th>\n",
              "      <td>85</td>\n",
              "      <td>169.0</td>\n",
              "      <td>Sarthak</td>\n",
              "    </tr>\n",
              "    <tr>\n",
              "      <th>19</th>\n",
              "      <td>101</td>\n",
              "      <td>167.0</td>\n",
              "      <td>Sankha Subhra</td>\n",
              "    </tr>\n",
              "    <tr>\n",
              "      <th>20</th>\n",
              "      <td>69</td>\n",
              "      <td>166.0</td>\n",
              "      <td>Sumantra</td>\n",
              "    </tr>\n",
              "    <tr>\n",
              "      <th>21</th>\n",
              "      <td>74</td>\n",
              "      <td>146.5</td>\n",
              "      <td>Wasif</td>\n",
              "    </tr>\n",
              "    <tr>\n",
              "      <th>22</th>\n",
              "      <td>70</td>\n",
              "      <td>143.0</td>\n",
              "      <td>Sagar</td>\n",
              "    </tr>\n",
              "    <tr>\n",
              "      <th>23</th>\n",
              "      <td>67</td>\n",
              "      <td>142.0</td>\n",
              "      <td>Tathagata</td>\n",
              "    </tr>\n",
              "    <tr>\n",
              "      <th>24</th>\n",
              "      <td>102</td>\n",
              "      <td>141.5</td>\n",
              "      <td>Mushrequa</td>\n",
              "    </tr>\n",
              "    <tr>\n",
              "      <th>25</th>\n",
              "      <td>95</td>\n",
              "      <td>120.0</td>\n",
              "      <td>RAHUL</td>\n",
              "    </tr>\n",
              "    <tr>\n",
              "      <th>26</th>\n",
              "      <td>103</td>\n",
              "      <td>115.5</td>\n",
              "      <td>Rajrupa</td>\n",
              "    </tr>\n",
              "    <tr>\n",
              "      <th>27</th>\n",
              "      <td>94</td>\n",
              "      <td>114.0</td>\n",
              "      <td>Rahul</td>\n",
              "    </tr>\n",
              "    <tr>\n",
              "      <th>28</th>\n",
              "      <td>86</td>\n",
              "      <td>108.5</td>\n",
              "      <td>Banti</td>\n",
              "    </tr>\n",
              "    <tr>\n",
              "      <th>29</th>\n",
              "      <td>80</td>\n",
              "      <td>106.0</td>\n",
              "      <td>Rahul</td>\n",
              "    </tr>\n",
              "    <tr>\n",
              "      <th>30</th>\n",
              "      <td>79</td>\n",
              "      <td>91.5</td>\n",
              "      <td>Srinjoy</td>\n",
              "    </tr>\n",
              "    <tr>\n",
              "      <th>31</th>\n",
              "      <td>73</td>\n",
              "      <td>64.5</td>\n",
              "      <td>Dilshad</td>\n",
              "    </tr>\n",
              "    <tr>\n",
              "      <th>32</th>\n",
              "      <td>71</td>\n",
              "      <td>42.5</td>\n",
              "      <td>Soumyajyoti</td>\n",
              "    </tr>\n",
              "    <tr>\n",
              "      <th>33</th>\n",
              "      <td>98</td>\n",
              "      <td>6.0</td>\n",
              "      <td>Om</td>\n",
              "    </tr>\n",
              "    <tr>\n",
              "      <th>34</th>\n",
              "      <td>99</td>\n",
              "      <td>5.5</td>\n",
              "      <td>Abhiraj</td>\n",
              "    </tr>\n",
              "    <tr>\n",
              "      <th>35</th>\n",
              "      <td>92</td>\n",
              "      <td>1.0</td>\n",
              "      <td>Koulik</td>\n",
              "    </tr>\n",
              "  </tbody>\n",
              "</table>\n",
              "</div>"
            ],
            "text/plain": [
              "    user_id  total          fname\n",
              "0        75  196.5         Ritwik\n",
              "1        76  193.0          Ritik\n",
              "2        90  190.5        Ritayan\n",
              "3        78  189.0         Balaka\n",
              "4        87  188.5        Alekhyo\n",
              "5       104  187.5       Priscila\n",
              "6        96  184.0        Srijani\n",
              "7        93  183.0     Writuparna\n",
              "8        68  182.5          Tuhin\n",
              "9        77  182.0       Rajtilak\n",
              "10      105  178.5          GAZAL\n",
              "11       72  177.5          Suman\n",
              "12       82  176.5        Diganta\n",
              "13       89  176.5           Rima\n",
              "14       81  176.0    SHUBHOBRATA\n",
              "15       88  175.5        Satyaki\n",
              "16       84  173.0     Madhuparna\n",
              "17       83  172.0          Sanaa\n",
              "18       85  169.0        Sarthak\n",
              "19      101  167.0  Sankha Subhra\n",
              "20       69  166.0       Sumantra\n",
              "21       74  146.5          Wasif\n",
              "22       70  143.0          Sagar\n",
              "23       67  142.0      Tathagata\n",
              "24      102  141.5      Mushrequa\n",
              "25       95  120.0          RAHUL\n",
              "26      103  115.5        Rajrupa\n",
              "27       94  114.0          Rahul\n",
              "28       86  108.5          Banti\n",
              "29       80  106.0          Rahul\n",
              "30       79   91.5        Srinjoy\n",
              "31       73   64.5        Dilshad\n",
              "32       71   42.5    Soumyajyoti\n",
              "33       98    6.0             Om\n",
              "34       99    5.5        Abhiraj\n",
              "35       92    1.0         Koulik"
            ]
          },
          "metadata": {
            "tags": []
          },
          "execution_count": 197
        }
      ]
    },
    {
      "cell_type": "code",
      "metadata": {
        "id": "mJl4ztN4fdio",
        "colab_type": "code",
        "outputId": "deda0ede-20a5-4a27-d6c1-3d272aa04f4e",
        "colab": {
          "base_uri": "https://localhost:8080/",
          "height": 33
        }
      },
      "source": [
        "leader_board('Machine Learning Kolk 1')"
      ],
      "execution_count": 0,
      "outputs": [
        {
          "output_type": "execute_result",
          "data": {
            "text/plain": [
              "'Batch not Found! Enter correct batch name'"
            ]
          },
          "metadata": {
            "tags": []
          },
          "execution_count": 198
        }
      ]
    },
    {
      "cell_type": "code",
      "metadata": {
        "id": "I4-pzRdViMBR",
        "colab_type": "code",
        "outputId": "96942bee-4646-4154-f0d6-2f19d0bdbb4b",
        "colab": {
          "base_uri": "https://localhost:8080/",
          "height": 1000
        }
      },
      "source": [
        "leader_board('Machine Learning Kolkata 2',end_date='2020-01-31')"
      ],
      "execution_count": 0,
      "outputs": [
        {
          "output_type": "execute_result",
          "data": {
            "text/html": [
              "<div>\n",
              "<style scoped>\n",
              "    .dataframe tbody tr th:only-of-type {\n",
              "        vertical-align: middle;\n",
              "    }\n",
              "\n",
              "    .dataframe tbody tr th {\n",
              "        vertical-align: top;\n",
              "    }\n",
              "\n",
              "    .dataframe thead th {\n",
              "        text-align: right;\n",
              "    }\n",
              "</style>\n",
              "<table border=\"1\" class=\"dataframe\">\n",
              "  <thead>\n",
              "    <tr style=\"text-align: right;\">\n",
              "      <th></th>\n",
              "      <th>user_id</th>\n",
              "      <th>total</th>\n",
              "      <th>fname</th>\n",
              "    </tr>\n",
              "  </thead>\n",
              "  <tbody>\n",
              "    <tr>\n",
              "      <th>0</th>\n",
              "      <td>75</td>\n",
              "      <td>58.5</td>\n",
              "      <td>Ritwik</td>\n",
              "    </tr>\n",
              "    <tr>\n",
              "      <th>1</th>\n",
              "      <td>76</td>\n",
              "      <td>58.0</td>\n",
              "      <td>Ritik</td>\n",
              "    </tr>\n",
              "    <tr>\n",
              "      <th>2</th>\n",
              "      <td>96</td>\n",
              "      <td>57.0</td>\n",
              "      <td>Srijani</td>\n",
              "    </tr>\n",
              "    <tr>\n",
              "      <th>3</th>\n",
              "      <td>82</td>\n",
              "      <td>56.5</td>\n",
              "      <td>Diganta</td>\n",
              "    </tr>\n",
              "    <tr>\n",
              "      <th>4</th>\n",
              "      <td>78</td>\n",
              "      <td>56.0</td>\n",
              "      <td>Balaka</td>\n",
              "    </tr>\n",
              "    <tr>\n",
              "      <th>5</th>\n",
              "      <td>104</td>\n",
              "      <td>55.5</td>\n",
              "      <td>Priscila</td>\n",
              "    </tr>\n",
              "    <tr>\n",
              "      <th>6</th>\n",
              "      <td>77</td>\n",
              "      <td>55.0</td>\n",
              "      <td>Rajtilak</td>\n",
              "    </tr>\n",
              "    <tr>\n",
              "      <th>7</th>\n",
              "      <td>84</td>\n",
              "      <td>54.5</td>\n",
              "      <td>Madhuparna</td>\n",
              "    </tr>\n",
              "    <tr>\n",
              "      <th>8</th>\n",
              "      <td>87</td>\n",
              "      <td>53.5</td>\n",
              "      <td>Alekhyo</td>\n",
              "    </tr>\n",
              "    <tr>\n",
              "      <th>9</th>\n",
              "      <td>68</td>\n",
              "      <td>53.0</td>\n",
              "      <td>Tuhin</td>\n",
              "    </tr>\n",
              "    <tr>\n",
              "      <th>10</th>\n",
              "      <td>88</td>\n",
              "      <td>52.5</td>\n",
              "      <td>Satyaki</td>\n",
              "    </tr>\n",
              "    <tr>\n",
              "      <th>11</th>\n",
              "      <td>93</td>\n",
              "      <td>52.0</td>\n",
              "      <td>Writuparna</td>\n",
              "    </tr>\n",
              "    <tr>\n",
              "      <th>12</th>\n",
              "      <td>89</td>\n",
              "      <td>52.0</td>\n",
              "      <td>Rima</td>\n",
              "    </tr>\n",
              "    <tr>\n",
              "      <th>13</th>\n",
              "      <td>102</td>\n",
              "      <td>51.0</td>\n",
              "      <td>Mushrequa</td>\n",
              "    </tr>\n",
              "    <tr>\n",
              "      <th>14</th>\n",
              "      <td>81</td>\n",
              "      <td>51.0</td>\n",
              "      <td>SHUBHOBRATA</td>\n",
              "    </tr>\n",
              "    <tr>\n",
              "      <th>15</th>\n",
              "      <td>105</td>\n",
              "      <td>50.0</td>\n",
              "      <td>GAZAL</td>\n",
              "    </tr>\n",
              "    <tr>\n",
              "      <th>16</th>\n",
              "      <td>103</td>\n",
              "      <td>49.5</td>\n",
              "      <td>Rajrupa</td>\n",
              "    </tr>\n",
              "    <tr>\n",
              "      <th>17</th>\n",
              "      <td>90</td>\n",
              "      <td>49.5</td>\n",
              "      <td>Ritayan</td>\n",
              "    </tr>\n",
              "    <tr>\n",
              "      <th>18</th>\n",
              "      <td>72</td>\n",
              "      <td>48.5</td>\n",
              "      <td>Suman</td>\n",
              "    </tr>\n",
              "    <tr>\n",
              "      <th>19</th>\n",
              "      <td>95</td>\n",
              "      <td>48.0</td>\n",
              "      <td>RAHUL</td>\n",
              "    </tr>\n",
              "    <tr>\n",
              "      <th>20</th>\n",
              "      <td>85</td>\n",
              "      <td>47.5</td>\n",
              "      <td>Sarthak</td>\n",
              "    </tr>\n",
              "    <tr>\n",
              "      <th>21</th>\n",
              "      <td>67</td>\n",
              "      <td>47.0</td>\n",
              "      <td>Tathagata</td>\n",
              "    </tr>\n",
              "    <tr>\n",
              "      <th>22</th>\n",
              "      <td>94</td>\n",
              "      <td>47.0</td>\n",
              "      <td>Rahul</td>\n",
              "    </tr>\n",
              "    <tr>\n",
              "      <th>23</th>\n",
              "      <td>73</td>\n",
              "      <td>47.0</td>\n",
              "      <td>Dilshad</td>\n",
              "    </tr>\n",
              "    <tr>\n",
              "      <th>24</th>\n",
              "      <td>86</td>\n",
              "      <td>46.0</td>\n",
              "      <td>Banti</td>\n",
              "    </tr>\n",
              "    <tr>\n",
              "      <th>25</th>\n",
              "      <td>74</td>\n",
              "      <td>46.0</td>\n",
              "      <td>Wasif</td>\n",
              "    </tr>\n",
              "    <tr>\n",
              "      <th>26</th>\n",
              "      <td>101</td>\n",
              "      <td>46.0</td>\n",
              "      <td>Sankha Subhra</td>\n",
              "    </tr>\n",
              "    <tr>\n",
              "      <th>27</th>\n",
              "      <td>83</td>\n",
              "      <td>46.0</td>\n",
              "      <td>Sanaa</td>\n",
              "    </tr>\n",
              "    <tr>\n",
              "      <th>28</th>\n",
              "      <td>79</td>\n",
              "      <td>45.5</td>\n",
              "      <td>Srinjoy</td>\n",
              "    </tr>\n",
              "    <tr>\n",
              "      <th>29</th>\n",
              "      <td>80</td>\n",
              "      <td>43.5</td>\n",
              "      <td>Rahul</td>\n",
              "    </tr>\n",
              "    <tr>\n",
              "      <th>30</th>\n",
              "      <td>70</td>\n",
              "      <td>43.0</td>\n",
              "      <td>Sagar</td>\n",
              "    </tr>\n",
              "    <tr>\n",
              "      <th>31</th>\n",
              "      <td>69</td>\n",
              "      <td>40.5</td>\n",
              "      <td>Sumantra</td>\n",
              "    </tr>\n",
              "    <tr>\n",
              "      <th>32</th>\n",
              "      <td>71</td>\n",
              "      <td>9.5</td>\n",
              "      <td>Soumyajyoti</td>\n",
              "    </tr>\n",
              "    <tr>\n",
              "      <th>33</th>\n",
              "      <td>98</td>\n",
              "      <td>6.0</td>\n",
              "      <td>Om</td>\n",
              "    </tr>\n",
              "    <tr>\n",
              "      <th>34</th>\n",
              "      <td>99</td>\n",
              "      <td>5.5</td>\n",
              "      <td>Abhiraj</td>\n",
              "    </tr>\n",
              "    <tr>\n",
              "      <th>35</th>\n",
              "      <td>92</td>\n",
              "      <td>1.0</td>\n",
              "      <td>Koulik</td>\n",
              "    </tr>\n",
              "  </tbody>\n",
              "</table>\n",
              "</div>"
            ],
            "text/plain": [
              "    user_id  total          fname\n",
              "0        75   58.5         Ritwik\n",
              "1        76   58.0          Ritik\n",
              "2        96   57.0        Srijani\n",
              "3        82   56.5        Diganta\n",
              "4        78   56.0         Balaka\n",
              "5       104   55.5       Priscila\n",
              "6        77   55.0       Rajtilak\n",
              "7        84   54.5     Madhuparna\n",
              "8        87   53.5        Alekhyo\n",
              "9        68   53.0          Tuhin\n",
              "10       88   52.5        Satyaki\n",
              "11       93   52.0     Writuparna\n",
              "12       89   52.0           Rima\n",
              "13      102   51.0      Mushrequa\n",
              "14       81   51.0    SHUBHOBRATA\n",
              "15      105   50.0          GAZAL\n",
              "16      103   49.5        Rajrupa\n",
              "17       90   49.5        Ritayan\n",
              "18       72   48.5          Suman\n",
              "19       95   48.0          RAHUL\n",
              "20       85   47.5        Sarthak\n",
              "21       67   47.0      Tathagata\n",
              "22       94   47.0          Rahul\n",
              "23       73   47.0        Dilshad\n",
              "24       86   46.0          Banti\n",
              "25       74   46.0          Wasif\n",
              "26      101   46.0  Sankha Subhra\n",
              "27       83   46.0          Sanaa\n",
              "28       79   45.5        Srinjoy\n",
              "29       80   43.5          Rahul\n",
              "30       70   43.0          Sagar\n",
              "31       69   40.5       Sumantra\n",
              "32       71    9.5    Soumyajyoti\n",
              "33       98    6.0             Om\n",
              "34       99    5.5        Abhiraj\n",
              "35       92    1.0         Koulik"
            ]
          },
          "metadata": {
            "tags": []
          },
          "execution_count": 199
        }
      ]
    },
    {
      "cell_type": "code",
      "metadata": {
        "id": "pQm85uEpiSn1",
        "colab_type": "code",
        "outputId": "5ac271f5-70af-4f0b-8d7b-bacb4efe6eb5",
        "colab": {
          "base_uri": "https://localhost:8080/",
          "height": 622
        }
      },
      "source": [
        "leader_board('Machine Learning HIT 1',start_date='2019-11-01')"
      ],
      "execution_count": 0,
      "outputs": [
        {
          "output_type": "execute_result",
          "data": {
            "text/html": [
              "<div>\n",
              "<style scoped>\n",
              "    .dataframe tbody tr th:only-of-type {\n",
              "        vertical-align: middle;\n",
              "    }\n",
              "\n",
              "    .dataframe tbody tr th {\n",
              "        vertical-align: top;\n",
              "    }\n",
              "\n",
              "    .dataframe thead th {\n",
              "        text-align: right;\n",
              "    }\n",
              "</style>\n",
              "<table border=\"1\" class=\"dataframe\">\n",
              "  <thead>\n",
              "    <tr style=\"text-align: right;\">\n",
              "      <th></th>\n",
              "      <th>user_id</th>\n",
              "      <th>total</th>\n",
              "      <th>fname</th>\n",
              "    </tr>\n",
              "  </thead>\n",
              "  <tbody>\n",
              "    <tr>\n",
              "      <th>0</th>\n",
              "      <td>38</td>\n",
              "      <td>92.0</td>\n",
              "      <td>Sumanta</td>\n",
              "    </tr>\n",
              "    <tr>\n",
              "      <th>1</th>\n",
              "      <td>35</td>\n",
              "      <td>89.5</td>\n",
              "      <td>Kirty</td>\n",
              "    </tr>\n",
              "    <tr>\n",
              "      <th>2</th>\n",
              "      <td>43</td>\n",
              "      <td>86.5</td>\n",
              "      <td>Saurabh</td>\n",
              "    </tr>\n",
              "    <tr>\n",
              "      <th>3</th>\n",
              "      <td>40</td>\n",
              "      <td>83.0</td>\n",
              "      <td>Rahul</td>\n",
              "    </tr>\n",
              "    <tr>\n",
              "      <th>4</th>\n",
              "      <td>48</td>\n",
              "      <td>78.5</td>\n",
              "      <td>Shubham</td>\n",
              "    </tr>\n",
              "    <tr>\n",
              "      <th>5</th>\n",
              "      <td>39</td>\n",
              "      <td>76.0</td>\n",
              "      <td>Rahul</td>\n",
              "    </tr>\n",
              "    <tr>\n",
              "      <th>6</th>\n",
              "      <td>53</td>\n",
              "      <td>74.0</td>\n",
              "      <td>Surjayan</td>\n",
              "    </tr>\n",
              "    <tr>\n",
              "      <th>7</th>\n",
              "      <td>44</td>\n",
              "      <td>50.5</td>\n",
              "      <td>Shiv</td>\n",
              "    </tr>\n",
              "    <tr>\n",
              "      <th>8</th>\n",
              "      <td>29</td>\n",
              "      <td>46.5</td>\n",
              "      <td>Aryan</td>\n",
              "    </tr>\n",
              "    <tr>\n",
              "      <th>9</th>\n",
              "      <td>52</td>\n",
              "      <td>45.0</td>\n",
              "      <td>Suman</td>\n",
              "    </tr>\n",
              "    <tr>\n",
              "      <th>10</th>\n",
              "      <td>36</td>\n",
              "      <td>44.0</td>\n",
              "      <td>Koushik</td>\n",
              "    </tr>\n",
              "    <tr>\n",
              "      <th>11</th>\n",
              "      <td>33</td>\n",
              "      <td>40.0</td>\n",
              "      <td>Harshita</td>\n",
              "    </tr>\n",
              "    <tr>\n",
              "      <th>12</th>\n",
              "      <td>47</td>\n",
              "      <td>39.0</td>\n",
              "      <td>Shruti</td>\n",
              "    </tr>\n",
              "    <tr>\n",
              "      <th>13</th>\n",
              "      <td>50</td>\n",
              "      <td>36.5</td>\n",
              "      <td>Shubham</td>\n",
              "    </tr>\n",
              "    <tr>\n",
              "      <th>14</th>\n",
              "      <td>45</td>\n",
              "      <td>31.0</td>\n",
              "      <td>Shivam</td>\n",
              "    </tr>\n",
              "    <tr>\n",
              "      <th>15</th>\n",
              "      <td>32</td>\n",
              "      <td>24.0</td>\n",
              "      <td>Harshit</td>\n",
              "    </tr>\n",
              "    <tr>\n",
              "      <th>16</th>\n",
              "      <td>24</td>\n",
              "      <td>11.0</td>\n",
              "      <td>Adarsh</td>\n",
              "    </tr>\n",
              "    <tr>\n",
              "      <th>17</th>\n",
              "      <td>41</td>\n",
              "      <td>9.0</td>\n",
              "      <td>Ravi</td>\n",
              "    </tr>\n",
              "    <tr>\n",
              "      <th>18</th>\n",
              "      <td>25</td>\n",
              "      <td>5.0</td>\n",
              "      <td>Aditya</td>\n",
              "    </tr>\n",
              "    <tr>\n",
              "      <th>19</th>\n",
              "      <td>49</td>\n",
              "      <td>4.0</td>\n",
              "      <td>Shubham</td>\n",
              "    </tr>\n",
              "  </tbody>\n",
              "</table>\n",
              "</div>"
            ],
            "text/plain": [
              "    user_id  total     fname\n",
              "0        38   92.0   Sumanta\n",
              "1        35   89.5     Kirty\n",
              "2        43   86.5   Saurabh\n",
              "3        40   83.0     Rahul\n",
              "4        48   78.5   Shubham\n",
              "5        39   76.0     Rahul\n",
              "6        53   74.0  Surjayan\n",
              "7        44   50.5      Shiv\n",
              "8        29   46.5     Aryan\n",
              "9        52   45.0     Suman\n",
              "10       36   44.0   Koushik\n",
              "11       33   40.0  Harshita\n",
              "12       47   39.0    Shruti\n",
              "13       50   36.5   Shubham\n",
              "14       45   31.0    Shivam\n",
              "15       32   24.0   Harshit\n",
              "16       24   11.0    Adarsh\n",
              "17       41    9.0      Ravi\n",
              "18       25    5.0    Aditya\n",
              "19       49    4.0   Shubham"
            ]
          },
          "metadata": {
            "tags": []
          },
          "execution_count": 200
        }
      ]
    },
    {
      "cell_type": "code",
      "metadata": {
        "id": "n7H9Se69ikVh",
        "colab_type": "code",
        "outputId": "cbd32896-2446-4a48-ca26-ccf5b54fb062",
        "colab": {
          "base_uri": "https://localhost:8080/",
          "height": 651
        }
      },
      "source": [
        "leader_board('Machine Learning Kolkata 1',start_date='2020-01-15',end_date='2020-02-15')"
      ],
      "execution_count": 0,
      "outputs": [
        {
          "output_type": "execute_result",
          "data": {
            "text/html": [
              "<div>\n",
              "<style scoped>\n",
              "    .dataframe tbody tr th:only-of-type {\n",
              "        vertical-align: middle;\n",
              "    }\n",
              "\n",
              "    .dataframe tbody tr th {\n",
              "        vertical-align: top;\n",
              "    }\n",
              "\n",
              "    .dataframe thead th {\n",
              "        text-align: right;\n",
              "    }\n",
              "</style>\n",
              "<table border=\"1\" class=\"dataframe\">\n",
              "  <thead>\n",
              "    <tr style=\"text-align: right;\">\n",
              "      <th></th>\n",
              "      <th>user_id</th>\n",
              "      <th>total</th>\n",
              "      <th>fname</th>\n",
              "    </tr>\n",
              "  </thead>\n",
              "  <tbody>\n",
              "    <tr>\n",
              "      <th>0</th>\n",
              "      <td>15</td>\n",
              "      <td>138.5</td>\n",
              "      <td>Kunal</td>\n",
              "    </tr>\n",
              "    <tr>\n",
              "      <th>1</th>\n",
              "      <td>21</td>\n",
              "      <td>103.0</td>\n",
              "      <td>Ujjainee</td>\n",
              "    </tr>\n",
              "    <tr>\n",
              "      <th>2</th>\n",
              "      <td>6</td>\n",
              "      <td>101.0</td>\n",
              "      <td>Dipam</td>\n",
              "    </tr>\n",
              "    <tr>\n",
              "      <th>3</th>\n",
              "      <td>16</td>\n",
              "      <td>100.0</td>\n",
              "      <td>Shakib</td>\n",
              "    </tr>\n",
              "    <tr>\n",
              "      <th>4</th>\n",
              "      <td>5</td>\n",
              "      <td>97.0</td>\n",
              "      <td>Purbita</td>\n",
              "    </tr>\n",
              "    <tr>\n",
              "      <th>5</th>\n",
              "      <td>9</td>\n",
              "      <td>85.0</td>\n",
              "      <td>Bhavna</td>\n",
              "    </tr>\n",
              "    <tr>\n",
              "      <th>6</th>\n",
              "      <td>18</td>\n",
              "      <td>82.0</td>\n",
              "      <td>Chandrima</td>\n",
              "    </tr>\n",
              "    <tr>\n",
              "      <th>7</th>\n",
              "      <td>14</td>\n",
              "      <td>82.0</td>\n",
              "      <td>Surabhi</td>\n",
              "    </tr>\n",
              "    <tr>\n",
              "      <th>8</th>\n",
              "      <td>12</td>\n",
              "      <td>80.5</td>\n",
              "      <td>Vishal</td>\n",
              "    </tr>\n",
              "    <tr>\n",
              "      <th>9</th>\n",
              "      <td>17</td>\n",
              "      <td>80.0</td>\n",
              "      <td>Shantanu</td>\n",
              "    </tr>\n",
              "    <tr>\n",
              "      <th>10</th>\n",
              "      <td>11</td>\n",
              "      <td>65.0</td>\n",
              "      <td>Sushree</td>\n",
              "    </tr>\n",
              "    <tr>\n",
              "      <th>11</th>\n",
              "      <td>2</td>\n",
              "      <td>48.0</td>\n",
              "      <td>Sharika</td>\n",
              "    </tr>\n",
              "    <tr>\n",
              "      <th>12</th>\n",
              "      <td>8</td>\n",
              "      <td>47.5</td>\n",
              "      <td>Anjali</td>\n",
              "    </tr>\n",
              "    <tr>\n",
              "      <th>13</th>\n",
              "      <td>56</td>\n",
              "      <td>40.0</td>\n",
              "      <td>Nitish</td>\n",
              "    </tr>\n",
              "    <tr>\n",
              "      <th>14</th>\n",
              "      <td>1</td>\n",
              "      <td>39.5</td>\n",
              "      <td>Durga</td>\n",
              "    </tr>\n",
              "    <tr>\n",
              "      <th>15</th>\n",
              "      <td>13</td>\n",
              "      <td>37.0</td>\n",
              "      <td>Prasoon</td>\n",
              "    </tr>\n",
              "    <tr>\n",
              "      <th>16</th>\n",
              "      <td>10</td>\n",
              "      <td>34.0</td>\n",
              "      <td>Arya</td>\n",
              "    </tr>\n",
              "    <tr>\n",
              "      <th>17</th>\n",
              "      <td>66</td>\n",
              "      <td>19.0</td>\n",
              "      <td>abc</td>\n",
              "    </tr>\n",
              "    <tr>\n",
              "      <th>18</th>\n",
              "      <td>19</td>\n",
              "      <td>18.0</td>\n",
              "      <td>Kaushal</td>\n",
              "    </tr>\n",
              "    <tr>\n",
              "      <th>19</th>\n",
              "      <td>20</td>\n",
              "      <td>9.0</td>\n",
              "      <td>Roumyak</td>\n",
              "    </tr>\n",
              "    <tr>\n",
              "      <th>20</th>\n",
              "      <td>3</td>\n",
              "      <td>2.0</td>\n",
              "      <td>Swaastick</td>\n",
              "    </tr>\n",
              "  </tbody>\n",
              "</table>\n",
              "</div>"
            ],
            "text/plain": [
              "    user_id  total      fname\n",
              "0        15  138.5      Kunal\n",
              "1        21  103.0   Ujjainee\n",
              "2         6  101.0      Dipam\n",
              "3        16  100.0     Shakib\n",
              "4         5   97.0    Purbita\n",
              "5         9   85.0     Bhavna\n",
              "6        18   82.0  Chandrima\n",
              "7        14   82.0    Surabhi\n",
              "8        12   80.5     Vishal\n",
              "9        17   80.0   Shantanu\n",
              "10       11   65.0    Sushree\n",
              "11        2   48.0    Sharika\n",
              "12        8   47.5     Anjali\n",
              "13       56   40.0     Nitish\n",
              "14        1   39.5      Durga\n",
              "15       13   37.0    Prasoon\n",
              "16       10   34.0       Arya\n",
              "17       66   19.0        abc\n",
              "18       19   18.0    Kaushal\n",
              "19       20    9.0    Roumyak\n",
              "20        3    2.0  Swaastick"
            ]
          },
          "metadata": {
            "tags": []
          },
          "execution_count": 201
        }
      ]
    },
    {
      "cell_type": "code",
      "metadata": {
        "id": "9zVGLy8rog9v",
        "colab_type": "code",
        "colab": {}
      },
      "source": [
        ""
      ],
      "execution_count": 0,
      "outputs": []
    },
    {
      "cell_type": "code",
      "metadata": {
        "id": "tDfGNMLkogwV",
        "colab_type": "code",
        "colab": {}
      },
      "source": [
        ""
      ],
      "execution_count": 0,
      "outputs": []
    },
    {
      "cell_type": "markdown",
      "metadata": {
        "id": "LRkneACyI35s",
        "colab_type": "text"
      },
      "source": [
        "**Problem 2**: Write a python function that receives 1 input, batch_name and returns the list of top 10 students who require maximum attention from the teacher.\n",
        "\n",
        "**Note**: I know this is kind of abstract, but truly we are facing this problem. Try to come up with a solution/algorithm. \n",
        "\n",
        "**Tip** : Don't just think in terms of marks, also think about things like late submissions, number of submissions, myday etc\n",
        "\n",
        "**Tricky scenario**: Aisa bhi ho sakta hai koi student bas shuru me acha perform nai kar raha tha, but ab kar raha hai. So consider dates also.\n",
        "\n",
        "**Marks : 50**"
      ]
    },
    {
      "cell_type": "code",
      "metadata": {
        "id": "-A_ZLtX8HeQ2",
        "colab_type": "code",
        "colab": {}
      },
      "source": [
        "# Write your code here\n",
        "\n",
        "# The idea to find out the students in trouble maybe: We will take a time range and then make time windows\n",
        "# in that time range(Say we made time windows of 5 days starting from start time and ending at last time )\n",
        "# We will then get the leader_board for each time window and count the number of times a particular student appeares\n",
        "# among the last 10 students of the leader_board\n",
        "# Sort the counted students in descending order and we will get the students who are in greater trouble in the top\n",
        "\n",
        "# Identify that by using leader_board for different time windows I am apparently taking into account task submission score, gyan score \n",
        "# and myday score ( not taking into account the late submission and will implement it later) \n",
        "\n",
        "\n",
        "# Alternatively we can modify our usage of time windows to comparing the leader_board in a time window from batch_start_date to a particular time\n"
      ],
      "execution_count": 0,
      "outputs": []
    },
    {
      "cell_type": "code",
      "metadata": {
        "id": "LQDcKRug35jn",
        "colab_type": "code",
        "colab": {}
      },
      "source": [
        "def find_students_attention(batch_id,time_window_start_batch_time=False):\n",
        "\n",
        "  # Extracting batch start date\n",
        "  try:\n",
        "    batch_start_date=batch[batch['batch_id']==batch_id]['batch_start_date'].values[0]\n",
        "    batch_name=batch[batch['batch_id']==batch_id]['batch_name'].values[0]\n",
        "  except:\n",
        "    return 'Batch not found! Check batch id'\n",
        "\n",
        "  # Setting start_date to batch_start_date\n",
        "  start_date=pd.to_datetime(batch_start_date)\n",
        "\n",
        "  # End date is current time\n",
        "  end_date=pd.to_datetime('today')\n",
        "\n",
        "  # Creating time windows\n",
        "  windows=np.array([])\n",
        "  while start_date<end_date:\n",
        "    start_date=start_date+pd.DateOffset(5)\n",
        "    windows=np.append(windows,start_date)\n",
        "\n",
        "  # Getting leader_board for each window and storing it in a dataframe(name: last_students)\n",
        "  last_students=pd.DataFrame()\n",
        "  for i in range(len(windows)-1):\n",
        "    if time_window_start_batch_time:\n",
        "      last_students=last_students.append(leader_board(batch_name,start_date=windows[0],end_date=windows[i+1]).tail(10))  # Getting the last 10 students of the leader_board\n",
        "    else:\n",
        "      last_students=last_students.append(leader_board(batch_name,start_date=windows[i],end_date=windows[i+1]).tail(10))\n",
        "  \n",
        "  # Counting the number of times a student appeared in the last 10 students in those time windows and returning the names after sorting in descending order\n",
        "  return last_students.groupby('fname').count()['total'].sort_values(ascending=False).head(10).index.values"
      ],
      "execution_count": 0,
      "outputs": []
    },
    {
      "cell_type": "code",
      "metadata": {
        "id": "RxeKNAL_7KL-",
        "colab_type": "code",
        "outputId": "1d2b1a3c-af3b-411f-91b0-1680d901fac6",
        "colab": {
          "base_uri": "https://localhost:8080/",
          "height": 180
        }
      },
      "source": [
        "# Lets find the students who need most attention where every time window is unique\n",
        "# For example :\n",
        "# if start time is 1st jan and end time is 20 th jan\n",
        "# We take time windows as (1st jan to 5th jan), (6th jan to 10th jan), (11th jan to 15th ) and (15th to 20th jan)\n",
        "\n",
        "find_students_attention(3)"
      ],
      "execution_count": 0,
      "outputs": [
        {
          "output_type": "stream",
          "text": [
            "/usr/local/lib/python3.6/dist-packages/pandas/core/frame.py:7138: FutureWarning: Sorting because non-concatenation axis is not aligned. A future version\n",
            "of pandas will change to not sort by default.\n",
            "\n",
            "To accept the future behavior, pass 'sort=False'.\n",
            "\n",
            "To retain the current behavior and silence the warning, pass 'sort=True'.\n",
            "\n",
            "  sort=sort,\n"
          ],
          "name": "stderr"
        },
        {
          "output_type": "execute_result",
          "data": {
            "text/plain": [
              "array(['Rahul', 'Srinjoy', 'RAHUL', 'Sarthak', 'Tathagata', 'Rajrupa',\n",
              "       'Wasif', 'Sagar', 'Diganta', 'Soumyajyoti'], dtype=object)"
            ]
          },
          "metadata": {
            "tags": []
          },
          "execution_count": 203
        }
      ]
    },
    {
      "cell_type": "code",
      "metadata": {
        "id": "r5gDslGv7Kgk",
        "colab_type": "code",
        "outputId": "4afe0d88-a1be-4994-8fb3-c429b1701fee",
        "colab": {
          "base_uri": "https://localhost:8080/",
          "height": 50
        }
      },
      "source": [
        "# Lets find the students who need attention where every time window starts from batch start date\n",
        "# For Example:\n",
        "# If start time is batch start date= 1st jan and end time is 20th jan\n",
        "# Time windows will become (1st jan to 5th jan), (1st jan to 10th jan), (1st jan to 15th jan) and (1st jan to 20th jan)  \n",
        "\n",
        "find_students_attention(3,time_window_start_batch_time=True)"
      ],
      "execution_count": 0,
      "outputs": [
        {
          "output_type": "execute_result",
          "data": {
            "text/plain": [
              "array(['Rahul', 'Srinjoy', 'Soumyajyoti', 'Om', 'Abhiraj', 'Dilshad',\n",
              "       'Rajrupa', 'Tathagata', 'Banti', 'RAHUL'], dtype=object)"
            ]
          },
          "metadata": {
            "tags": []
          },
          "execution_count": 204
        }
      ]
    },
    {
      "cell_type": "code",
      "metadata": {
        "id": "TX_6-XnG8smA",
        "colab_type": "code",
        "colab": {}
      },
      "source": [
        "# As you see the two types of time windows gives two different results\n",
        "# I think using batch_start_date as time window start is giving better approximations"
      ],
      "execution_count": 0,
      "outputs": []
    },
    {
      "cell_type": "code",
      "metadata": {
        "id": "3Cg9i1JM-ZwE",
        "colab_type": "code",
        "outputId": "9e54edab-481b-497b-a646-210fa5d3888a",
        "colab": {
          "base_uri": "https://localhost:8080/",
          "height": 180
        }
      },
      "source": [
        "find_students_attention(2)"
      ],
      "execution_count": 0,
      "outputs": [
        {
          "output_type": "stream",
          "text": [
            "/usr/local/lib/python3.6/dist-packages/pandas/core/frame.py:7138: FutureWarning: Sorting because non-concatenation axis is not aligned. A future version\n",
            "of pandas will change to not sort by default.\n",
            "\n",
            "To accept the future behavior, pass 'sort=False'.\n",
            "\n",
            "To retain the current behavior and silence the warning, pass 'sort=True'.\n",
            "\n",
            "  sort=sort,\n"
          ],
          "name": "stderr"
        },
        {
          "output_type": "execute_result",
          "data": {
            "text/plain": [
              "array(['Shubham', 'Suman', 'Aryan', 'Rahul', 'Ravi', 'Shiv', 'Harshita',\n",
              "       'Koushik', 'Aditya', 'Harshit'], dtype=object)"
            ]
          },
          "metadata": {
            "tags": []
          },
          "execution_count": 206
        }
      ]
    },
    {
      "cell_type": "code",
      "metadata": {
        "id": "vN7djfsrokQj",
        "colab_type": "code",
        "colab": {}
      },
      "source": [
        ""
      ],
      "execution_count": 0,
      "outputs": []
    },
    {
      "cell_type": "code",
      "metadata": {
        "id": "H_dHwb1DokFl",
        "colab_type": "code",
        "colab": {}
      },
      "source": [
        ""
      ],
      "execution_count": 0,
      "outputs": []
    },
    {
      "cell_type": "markdown",
      "metadata": {
        "id": "NjDwO7mTKwSj",
        "colab_type": "text"
      },
      "source": [
        "**Problem 3**: Write a python function that will take batch name and a date range as input and outputs the most consistent student in that given daterange and batch\n",
        "\n",
        "**Note**: Come up with your definition of consistency\n",
        "\n",
        "**Marks - 20** "
      ]
    },
    {
      "cell_type": "code",
      "metadata": {
        "id": "pM3qakcfMQEn",
        "colab_type": "code",
        "colab": {}
      },
      "source": [
        "# Write your code here\n",
        "\n",
        "# My definition of consistency would be that a student consistently maintains the top position. We can get the number of times a student is in the top\n",
        "# and get the student who is in the top for the most number of times. This would be like we are (behind the scenes) taking into account the task submissions, gyan and myday submissions\n",
        "# Basically, the ideas is that: A student, if he is in the top, he will be in the top if he is consistent in submitting tasks, gyans and mydays. \n",
        "\n",
        "# Lets get some time windows in the range given and get the leader_boards in that time windows\n",
        "# Now, we get the top student in the time windows and count the number of times a particular student is in the top.\n",
        "# Then we get the student who has been in the top for a long time. That student is the most consistent student."
      ],
      "execution_count": 0,
      "outputs": []
    },
    {
      "cell_type": "code",
      "metadata": {
        "id": "QkaMMUIaOMKN",
        "colab_type": "code",
        "colab": {}
      },
      "source": [
        "def get_most_consistent(batch_name,start_date=None,end_date=None):\n",
        "\n",
        "  # Extracting batch id and batch_start_date from batch_name\n",
        "  try:\n",
        "    batch_id=batch[batch['batch_name']==batch_name]['batch_id'].values[0]\n",
        "    batch_start_date=batch[batch['batch_name']==batch_name]['batch_start_date'].values[0]\n",
        "  except:\n",
        "    return \"Batch not found! Check name\"\n",
        "  \n",
        "  # If start date is not present, take batch_start_date by default\n",
        "  if start_date:\n",
        "    if type(start_date)==pd._libs.tslibs.timestamps.Timestamp:\n",
        "      pass\n",
        "    else:\n",
        "      start_date=pd.to_datetime(start_date)\n",
        "  else:\n",
        "    start_date=pd.to_datetime(batch[batch['batch_id']==batch_id]['batch_start_date'].values[0])\n",
        "  \n",
        "  # If end date is present, converting it to pandas datetime otherwise taking current time\n",
        "  if end_date:\n",
        "    if type(end_date)==pd._libs.tslibs.timestamps.Timestamp:\n",
        "      pass\n",
        "    else:\n",
        "      end_date=pd.to_datetime(end_date)\n",
        "  else:\n",
        "    end_date=pd.to_datetime('today')\n",
        "\n",
        "  # Creating time windows\n",
        "  windows=np.array([])\n",
        "  while start_date<end_date:\n",
        "    start_date=start_date+pd.DateOffset(2)\n",
        "    windows=np.append(windows,start_date)\n",
        "  windows\n",
        "\n",
        "  # storing the top student name for each leader_board in top_student\n",
        "  top_student=np.array([])\n",
        "  for i in range(len(windows)-1):\n",
        "    top_student=np.append(top_student,leader_board(batch_name,windows[i],windows[i+1]).head(1)['fname'])\n",
        "\n",
        "  # Counting the number of times the name is in the array and returning the name of the student whose appeared in the array most number of times\n",
        "  return pd.Series(top_student).value_counts().head(1).index[0]\n",
        "\n",
        "  "
      ],
      "execution_count": 0,
      "outputs": []
    },
    {
      "cell_type": "code",
      "metadata": {
        "id": "jZySFJ0TPx61",
        "colab_type": "code",
        "outputId": "a36caf88-9839-429b-dbcc-2a12570b84fb",
        "colab": {
          "base_uri": "https://localhost:8080/",
          "height": 33
        }
      },
      "source": [
        "get_most_consistent(\"Machine Learning Kolkata 2\")"
      ],
      "execution_count": 0,
      "outputs": [
        {
          "output_type": "execute_result",
          "data": {
            "text/plain": [
              "'GAZAL'"
            ]
          },
          "metadata": {
            "tags": []
          },
          "execution_count": 209
        }
      ]
    },
    {
      "cell_type": "code",
      "metadata": {
        "id": "OdDK5QmIPlb1",
        "colab_type": "code",
        "outputId": "08019998-27f7-4c34-abec-746442fffe3c",
        "colab": {
          "base_uri": "https://localhost:8080/",
          "height": 33
        }
      },
      "source": [
        "get_most_consistent('Machine Learning Kolkata 2',start_date='2020-01-15',end_date='2020-02-15')"
      ],
      "execution_count": 0,
      "outputs": [
        {
          "output_type": "execute_result",
          "data": {
            "text/plain": [
              "'Ritwik'"
            ]
          },
          "metadata": {
            "tags": []
          },
          "execution_count": 210
        }
      ]
    },
    {
      "cell_type": "code",
      "metadata": {
        "id": "jgT67OwMPwiF",
        "colab_type": "code",
        "outputId": "f73a91c5-d2bb-4360-9292-3be95e76367a",
        "colab": {
          "base_uri": "https://localhost:8080/",
          "height": 33
        }
      },
      "source": [
        "get_most_consistent('Machine Learning Kolkata 2',start_date='2020-02-01',end_date='2020-02-28')"
      ],
      "execution_count": 0,
      "outputs": [
        {
          "output_type": "execute_result",
          "data": {
            "text/plain": [
              "'Diganta'"
            ]
          },
          "metadata": {
            "tags": []
          },
          "execution_count": 211
        }
      ]
    },
    {
      "cell_type": "code",
      "metadata": {
        "id": "8w3ZQWvjQHdS",
        "colab_type": "code",
        "outputId": "aa76f6dc-20fc-4cb2-97ee-8489263b086f",
        "colab": {
          "base_uri": "https://localhost:8080/",
          "height": 33
        }
      },
      "source": [
        "get_most_consistent('Machine Learning Kolkata 2',start_date='2020-02-20',end_date='2020-02-28')"
      ],
      "execution_count": 0,
      "outputs": [
        {
          "output_type": "execute_result",
          "data": {
            "text/plain": [
              "'GAZAL'"
            ]
          },
          "metadata": {
            "tags": []
          },
          "execution_count": 212
        }
      ]
    },
    {
      "cell_type": "code",
      "metadata": {
        "id": "n1Co_TVjooHb",
        "colab_type": "code",
        "colab": {}
      },
      "source": [
        ""
      ],
      "execution_count": 0,
      "outputs": []
    },
    {
      "cell_type": "code",
      "metadata": {
        "id": "GdjxgWzuon9B",
        "colab_type": "code",
        "colab": {}
      },
      "source": [
        ""
      ],
      "execution_count": 0,
      "outputs": []
    },
    {
      "cell_type": "markdown",
      "metadata": {
        "id": "isIEYJsfME2W",
        "colab_type": "text"
      },
      "source": [
        "**Problem 4**: Find the best student across batches\n",
        "\n",
        "**Marks - 20**"
      ]
    },
    {
      "cell_type": "code",
      "metadata": {
        "id": "fScqy8GkKtzS",
        "colab_type": "code",
        "outputId": "754fcbd1-0568-406c-a981-872e6fb2f94a",
        "colab": {
          "base_uri": "https://localhost:8080/",
          "height": 66
        }
      },
      "source": [
        "# Write your code here\n",
        "\n",
        "# The idea is to get the leader_board from batch_start_date to current date for each batch \n",
        "# Then the top student in the leader_board of every batch is the best student\n",
        "for i in batch['batch_name'].values:\n",
        "  print('Batch:',i,\"      Best Student:\",leader_board(i).iloc[0]['fname'])"
      ],
      "execution_count": 0,
      "outputs": [
        {
          "output_type": "stream",
          "text": [
            "Batch: Machine Learning Kolkata 1       Best Student: Kunal\n",
            "Batch: Machine Learning HIT 1       Best Student: Sumanta\n",
            "Batch: Machine Learning Kolkata 2       Best Student: Ritwik\n"
          ],
          "name": "stdout"
        }
      ]
    },
    {
      "cell_type": "code",
      "metadata": {
        "id": "WHPuqcjUos-r",
        "colab_type": "code",
        "colab": {}
      },
      "source": [
        ""
      ],
      "execution_count": 0,
      "outputs": []
    },
    {
      "cell_type": "markdown",
      "metadata": {
        "id": "i_nZV2O0MfpA",
        "colab_type": "text"
      },
      "source": [
        "**Problem 5** : Write a function/piece of analysis that can compare the performance of 2 batches on the whole\n",
        "\n",
        "**Note**: Again Abstract\n",
        "\n",
        "**Note 2**: Will be judging you a lot on the basis of this.\n",
        "\n",
        "**Note 3**: You can get an instant internship under us, if can apply the right thought process to this problem\n",
        "\n",
        "**Marks - 50**"
      ]
    },
    {
      "cell_type": "code",
      "metadata": {
        "id": "zR2FQwqoROWc",
        "colab_type": "code",
        "colab": {}
      },
      "source": [
        "evaluation1=evaluation.copy()"
      ],
      "execution_count": 0,
      "outputs": []
    },
    {
      "cell_type": "code",
      "metadata": {
        "id": "lwJ1FkVqNCK1",
        "colab_type": "code",
        "outputId": "b888f5fc-8529-4c53-9a01-e2f21ea018b3",
        "colab": {
          "base_uri": "https://localhost:8080/",
          "height": 191
        }
      },
      "source": [
        "\n",
        "# Write your code here\n",
        "\n",
        "# Idea: \n",
        "# Lets compare the two batches on the average scores on the whole batch on particular tasks\n",
        "# For example:\n",
        "# We can get the average percentages of two batch on a particular task and compare them\n",
        "# Similarly we can repeat the process to get the comparison for different tasks and plot them in a graph\n",
        "\n",
        "\n",
        "\n",
        "# Doing some operations before going to make a function to compare two batches\n",
        "\n",
        "# Adding task total score to the evaluation dataframe\n",
        "tasks[['task_id','total']]\n",
        "evaluation1=evaluation.merge(tasks[['task_id','total']],on='task_id',how='left')\n",
        "evaluation1.head()\n"
      ],
      "execution_count": 0,
      "outputs": [
        {
          "output_type": "execute_result",
          "data": {
            "text/html": [
              "<div>\n",
              "<style scoped>\n",
              "    .dataframe tbody tr th:only-of-type {\n",
              "        vertical-align: middle;\n",
              "    }\n",
              "\n",
              "    .dataframe tbody tr th {\n",
              "        vertical-align: top;\n",
              "    }\n",
              "\n",
              "    .dataframe thead th {\n",
              "        text-align: right;\n",
              "    }\n",
              "</style>\n",
              "<table border=\"1\" class=\"dataframe\">\n",
              "  <thead>\n",
              "    <tr style=\"text-align: right;\">\n",
              "      <th></th>\n",
              "      <th>e_id</th>\n",
              "      <th>task_id</th>\n",
              "      <th>user_id</th>\n",
              "      <th>evaluation_date</th>\n",
              "      <th>late</th>\n",
              "      <th>score</th>\n",
              "      <th>winner</th>\n",
              "      <th>total</th>\n",
              "    </tr>\n",
              "  </thead>\n",
              "  <tbody>\n",
              "    <tr>\n",
              "      <th>0</th>\n",
              "      <td>1</td>\n",
              "      <td>16</td>\n",
              "      <td>9</td>\n",
              "      <td>2020-01-09</td>\n",
              "      <td>0</td>\n",
              "      <td>29.0</td>\n",
              "      <td>0</td>\n",
              "      <td>40</td>\n",
              "    </tr>\n",
              "    <tr>\n",
              "      <th>1</th>\n",
              "      <td>2</td>\n",
              "      <td>1</td>\n",
              "      <td>18</td>\n",
              "      <td>2020-01-09</td>\n",
              "      <td>0</td>\n",
              "      <td>32.0</td>\n",
              "      <td>0</td>\n",
              "      <td>10</td>\n",
              "    </tr>\n",
              "    <tr>\n",
              "      <th>2</th>\n",
              "      <td>3</td>\n",
              "      <td>16</td>\n",
              "      <td>6</td>\n",
              "      <td>2020-01-09</td>\n",
              "      <td>0</td>\n",
              "      <td>28.0</td>\n",
              "      <td>0</td>\n",
              "      <td>40</td>\n",
              "    </tr>\n",
              "    <tr>\n",
              "      <th>3</th>\n",
              "      <td>4</td>\n",
              "      <td>16</td>\n",
              "      <td>10</td>\n",
              "      <td>2020-01-09</td>\n",
              "      <td>0</td>\n",
              "      <td>32.0</td>\n",
              "      <td>0</td>\n",
              "      <td>40</td>\n",
              "    </tr>\n",
              "    <tr>\n",
              "      <th>4</th>\n",
              "      <td>5</td>\n",
              "      <td>1</td>\n",
              "      <td>5</td>\n",
              "      <td>2020-01-09</td>\n",
              "      <td>0</td>\n",
              "      <td>33.0</td>\n",
              "      <td>1</td>\n",
              "      <td>10</td>\n",
              "    </tr>\n",
              "  </tbody>\n",
              "</table>\n",
              "</div>"
            ],
            "text/plain": [
              "   e_id  task_id  user_id evaluation_date  late  score  winner  total\n",
              "0     1       16        9      2020-01-09     0   29.0       0     40\n",
              "1     2        1       18      2020-01-09     0   32.0       0     10\n",
              "2     3       16        6      2020-01-09     0   28.0       0     40\n",
              "3     4       16       10      2020-01-09     0   32.0       0     40\n",
              "4     5        1        5      2020-01-09     0   33.0       1     10"
            ]
          },
          "metadata": {
            "tags": []
          },
          "execution_count": 215
        }
      ]
    },
    {
      "cell_type": "code",
      "metadata": {
        "id": "zcaBBBi3TAoU",
        "colab_type": "code",
        "outputId": "89709998-8bf0-46f4-fbda-91db4d0f5db3",
        "colab": {
          "base_uri": "https://localhost:8080/",
          "height": 191
        }
      },
      "source": [
        "# Creating percentages of task score of a student\n",
        "evaluation1['percentage']=evaluation1['score']/evaluation1['total']\n",
        "evaluation1.head()"
      ],
      "execution_count": 0,
      "outputs": [
        {
          "output_type": "execute_result",
          "data": {
            "text/html": [
              "<div>\n",
              "<style scoped>\n",
              "    .dataframe tbody tr th:only-of-type {\n",
              "        vertical-align: middle;\n",
              "    }\n",
              "\n",
              "    .dataframe tbody tr th {\n",
              "        vertical-align: top;\n",
              "    }\n",
              "\n",
              "    .dataframe thead th {\n",
              "        text-align: right;\n",
              "    }\n",
              "</style>\n",
              "<table border=\"1\" class=\"dataframe\">\n",
              "  <thead>\n",
              "    <tr style=\"text-align: right;\">\n",
              "      <th></th>\n",
              "      <th>e_id</th>\n",
              "      <th>task_id</th>\n",
              "      <th>user_id</th>\n",
              "      <th>evaluation_date</th>\n",
              "      <th>late</th>\n",
              "      <th>score</th>\n",
              "      <th>winner</th>\n",
              "      <th>total</th>\n",
              "      <th>percentage</th>\n",
              "    </tr>\n",
              "  </thead>\n",
              "  <tbody>\n",
              "    <tr>\n",
              "      <th>0</th>\n",
              "      <td>1</td>\n",
              "      <td>16</td>\n",
              "      <td>9</td>\n",
              "      <td>2020-01-09</td>\n",
              "      <td>0</td>\n",
              "      <td>29.0</td>\n",
              "      <td>0</td>\n",
              "      <td>40</td>\n",
              "      <td>0.725</td>\n",
              "    </tr>\n",
              "    <tr>\n",
              "      <th>1</th>\n",
              "      <td>2</td>\n",
              "      <td>1</td>\n",
              "      <td>18</td>\n",
              "      <td>2020-01-09</td>\n",
              "      <td>0</td>\n",
              "      <td>32.0</td>\n",
              "      <td>0</td>\n",
              "      <td>10</td>\n",
              "      <td>3.200</td>\n",
              "    </tr>\n",
              "    <tr>\n",
              "      <th>2</th>\n",
              "      <td>3</td>\n",
              "      <td>16</td>\n",
              "      <td>6</td>\n",
              "      <td>2020-01-09</td>\n",
              "      <td>0</td>\n",
              "      <td>28.0</td>\n",
              "      <td>0</td>\n",
              "      <td>40</td>\n",
              "      <td>0.700</td>\n",
              "    </tr>\n",
              "    <tr>\n",
              "      <th>3</th>\n",
              "      <td>4</td>\n",
              "      <td>16</td>\n",
              "      <td>10</td>\n",
              "      <td>2020-01-09</td>\n",
              "      <td>0</td>\n",
              "      <td>32.0</td>\n",
              "      <td>0</td>\n",
              "      <td>40</td>\n",
              "      <td>0.800</td>\n",
              "    </tr>\n",
              "    <tr>\n",
              "      <th>4</th>\n",
              "      <td>5</td>\n",
              "      <td>1</td>\n",
              "      <td>5</td>\n",
              "      <td>2020-01-09</td>\n",
              "      <td>0</td>\n",
              "      <td>33.0</td>\n",
              "      <td>1</td>\n",
              "      <td>10</td>\n",
              "      <td>3.300</td>\n",
              "    </tr>\n",
              "  </tbody>\n",
              "</table>\n",
              "</div>"
            ],
            "text/plain": [
              "   e_id  task_id  user_id evaluation_date  ...  score  winner  total  percentage\n",
              "0     1       16        9      2020-01-09  ...   29.0       0     40       0.725\n",
              "1     2        1       18      2020-01-09  ...   32.0       0     10       3.200\n",
              "2     3       16        6      2020-01-09  ...   28.0       0     40       0.700\n",
              "3     4       16       10      2020-01-09  ...   32.0       0     40       0.800\n",
              "4     5        1        5      2020-01-09  ...   33.0       1     10       3.300\n",
              "\n",
              "[5 rows x 9 columns]"
            ]
          },
          "metadata": {
            "tags": []
          },
          "execution_count": 216
        }
      ]
    },
    {
      "cell_type": "code",
      "metadata": {
        "id": "Gm-4mvR5TEp4",
        "colab_type": "code",
        "outputId": "613afa34-a0e4-4ad4-cd1b-1717257dc1ba",
        "colab": {
          "base_uri": "https://localhost:8080/",
          "height": 191
        }
      },
      "source": [
        "# Some data is wrong here. We have some percentage greater than 1\n",
        "# This mainly happend because the score was much much greater than the total which is the fault of the data\n",
        "# Let us discard those data\n",
        "evaluation1=evaluation1[evaluation1['percentage']<=1]\n",
        "evaluation1.head()\n"
      ],
      "execution_count": 0,
      "outputs": [
        {
          "output_type": "execute_result",
          "data": {
            "text/html": [
              "<div>\n",
              "<style scoped>\n",
              "    .dataframe tbody tr th:only-of-type {\n",
              "        vertical-align: middle;\n",
              "    }\n",
              "\n",
              "    .dataframe tbody tr th {\n",
              "        vertical-align: top;\n",
              "    }\n",
              "\n",
              "    .dataframe thead th {\n",
              "        text-align: right;\n",
              "    }\n",
              "</style>\n",
              "<table border=\"1\" class=\"dataframe\">\n",
              "  <thead>\n",
              "    <tr style=\"text-align: right;\">\n",
              "      <th></th>\n",
              "      <th>e_id</th>\n",
              "      <th>task_id</th>\n",
              "      <th>user_id</th>\n",
              "      <th>evaluation_date</th>\n",
              "      <th>late</th>\n",
              "      <th>score</th>\n",
              "      <th>winner</th>\n",
              "      <th>total</th>\n",
              "      <th>percentage</th>\n",
              "    </tr>\n",
              "  </thead>\n",
              "  <tbody>\n",
              "    <tr>\n",
              "      <th>0</th>\n",
              "      <td>1</td>\n",
              "      <td>16</td>\n",
              "      <td>9</td>\n",
              "      <td>2020-01-09</td>\n",
              "      <td>0</td>\n",
              "      <td>29.0</td>\n",
              "      <td>0</td>\n",
              "      <td>40</td>\n",
              "      <td>0.725</td>\n",
              "    </tr>\n",
              "    <tr>\n",
              "      <th>2</th>\n",
              "      <td>3</td>\n",
              "      <td>16</td>\n",
              "      <td>6</td>\n",
              "      <td>2020-01-09</td>\n",
              "      <td>0</td>\n",
              "      <td>28.0</td>\n",
              "      <td>0</td>\n",
              "      <td>40</td>\n",
              "      <td>0.700</td>\n",
              "    </tr>\n",
              "    <tr>\n",
              "      <th>3</th>\n",
              "      <td>4</td>\n",
              "      <td>16</td>\n",
              "      <td>10</td>\n",
              "      <td>2020-01-09</td>\n",
              "      <td>0</td>\n",
              "      <td>32.0</td>\n",
              "      <td>0</td>\n",
              "      <td>40</td>\n",
              "      <td>0.800</td>\n",
              "    </tr>\n",
              "    <tr>\n",
              "      <th>5</th>\n",
              "      <td>6</td>\n",
              "      <td>16</td>\n",
              "      <td>20</td>\n",
              "      <td>2020-01-09</td>\n",
              "      <td>0</td>\n",
              "      <td>29.0</td>\n",
              "      <td>0</td>\n",
              "      <td>40</td>\n",
              "      <td>0.725</td>\n",
              "    </tr>\n",
              "    <tr>\n",
              "      <th>6</th>\n",
              "      <td>7</td>\n",
              "      <td>16</td>\n",
              "      <td>16</td>\n",
              "      <td>2020-01-09</td>\n",
              "      <td>0</td>\n",
              "      <td>34.0</td>\n",
              "      <td>1</td>\n",
              "      <td>40</td>\n",
              "      <td>0.850</td>\n",
              "    </tr>\n",
              "  </tbody>\n",
              "</table>\n",
              "</div>"
            ],
            "text/plain": [
              "   e_id  task_id  user_id evaluation_date  ...  score  winner  total  percentage\n",
              "0     1       16        9      2020-01-09  ...   29.0       0     40       0.725\n",
              "2     3       16        6      2020-01-09  ...   28.0       0     40       0.700\n",
              "3     4       16       10      2020-01-09  ...   32.0       0     40       0.800\n",
              "5     6       16       20      2020-01-09  ...   29.0       0     40       0.725\n",
              "6     7       16       16      2020-01-09  ...   34.0       1     40       0.850\n",
              "\n",
              "[5 rows x 9 columns]"
            ]
          },
          "metadata": {
            "tags": []
          },
          "execution_count": 217
        }
      ]
    },
    {
      "cell_type": "code",
      "metadata": {
        "id": "0c0u5O0NWBDS",
        "colab_type": "code",
        "outputId": "a8b40e3c-5922-438e-e881-6a497805c3d3",
        "colab": {
          "base_uri": "https://localhost:8080/",
          "height": 105
        }
      },
      "source": [
        "\n",
        "# Now it might happen that the task was evaluated on 10, the student got 9.5 but the task total score from the data was 40.\n",
        "# This discrepancy cannot be identified unless we filter the data by a very low percentage \n",
        "# Probable discrepancies:\n",
        "evaluation1[evaluation1['percentage']<=0.2] \n",
        "# We will not discard these rows as we are not sure that these are discrepancies"
      ],
      "execution_count": 0,
      "outputs": [
        {
          "output_type": "execute_result",
          "data": {
            "text/html": [
              "<div>\n",
              "<style scoped>\n",
              "    .dataframe tbody tr th:only-of-type {\n",
              "        vertical-align: middle;\n",
              "    }\n",
              "\n",
              "    .dataframe tbody tr th {\n",
              "        vertical-align: top;\n",
              "    }\n",
              "\n",
              "    .dataframe thead th {\n",
              "        text-align: right;\n",
              "    }\n",
              "</style>\n",
              "<table border=\"1\" class=\"dataframe\">\n",
              "  <thead>\n",
              "    <tr style=\"text-align: right;\">\n",
              "      <th></th>\n",
              "      <th>e_id</th>\n",
              "      <th>task_id</th>\n",
              "      <th>user_id</th>\n",
              "      <th>evaluation_date</th>\n",
              "      <th>late</th>\n",
              "      <th>score</th>\n",
              "      <th>winner</th>\n",
              "      <th>total</th>\n",
              "      <th>percentage</th>\n",
              "    </tr>\n",
              "  </thead>\n",
              "  <tbody>\n",
              "    <tr>\n",
              "      <th>38</th>\n",
              "      <td>40</td>\n",
              "      <td>19</td>\n",
              "      <td>14</td>\n",
              "      <td>2020-01-21</td>\n",
              "      <td>0</td>\n",
              "      <td>5.0</td>\n",
              "      <td>0</td>\n",
              "      <td>25</td>\n",
              "      <td>0.2</td>\n",
              "    </tr>\n",
              "    <tr>\n",
              "      <th>112</th>\n",
              "      <td>114</td>\n",
              "      <td>19</td>\n",
              "      <td>8</td>\n",
              "      <td>2020-01-28</td>\n",
              "      <td>0</td>\n",
              "      <td>5.0</td>\n",
              "      <td>0</td>\n",
              "      <td>25</td>\n",
              "      <td>0.2</td>\n",
              "    </tr>\n",
              "  </tbody>\n",
              "</table>\n",
              "</div>"
            ],
            "text/plain": [
              "     e_id  task_id  user_id evaluation_date  ...  score  winner  total  percentage\n",
              "38     40       19       14      2020-01-21  ...    5.0       0     25         0.2\n",
              "112   114       19        8      2020-01-28  ...    5.0       0     25         0.2\n",
              "\n",
              "[2 rows x 9 columns]"
            ]
          },
          "metadata": {
            "tags": []
          },
          "execution_count": 218
        }
      ]
    },
    {
      "cell_type": "code",
      "metadata": {
        "id": "_kjpdwcSVQ6O",
        "colab_type": "code",
        "outputId": "1a66587a-2698-46e7-888c-f5a2ddc8c839",
        "colab": {
          "base_uri": "https://localhost:8080/",
          "height": 391
        }
      },
      "source": [
        "# Lets add batch id to this data frame\n",
        "\n",
        "evaluation2=users[['user_id','batch_id']].merge(evaluation1,on='user_id')\n",
        "evaluation2"
      ],
      "execution_count": 0,
      "outputs": [
        {
          "output_type": "execute_result",
          "data": {
            "text/html": [
              "<div>\n",
              "<style scoped>\n",
              "    .dataframe tbody tr th:only-of-type {\n",
              "        vertical-align: middle;\n",
              "    }\n",
              "\n",
              "    .dataframe tbody tr th {\n",
              "        vertical-align: top;\n",
              "    }\n",
              "\n",
              "    .dataframe thead th {\n",
              "        text-align: right;\n",
              "    }\n",
              "</style>\n",
              "<table border=\"1\" class=\"dataframe\">\n",
              "  <thead>\n",
              "    <tr style=\"text-align: right;\">\n",
              "      <th></th>\n",
              "      <th>user_id</th>\n",
              "      <th>batch_id</th>\n",
              "      <th>e_id</th>\n",
              "      <th>task_id</th>\n",
              "      <th>evaluation_date</th>\n",
              "      <th>late</th>\n",
              "      <th>score</th>\n",
              "      <th>winner</th>\n",
              "      <th>total</th>\n",
              "      <th>percentage</th>\n",
              "    </tr>\n",
              "  </thead>\n",
              "  <tbody>\n",
              "    <tr>\n",
              "      <th>0</th>\n",
              "      <td>1</td>\n",
              "      <td>1</td>\n",
              "      <td>20</td>\n",
              "      <td>18</td>\n",
              "      <td>2020-01-16</td>\n",
              "      <td>0</td>\n",
              "      <td>10.0</td>\n",
              "      <td>1</td>\n",
              "      <td>10</td>\n",
              "      <td>1.00</td>\n",
              "    </tr>\n",
              "    <tr>\n",
              "      <th>1</th>\n",
              "      <td>1</td>\n",
              "      <td>1</td>\n",
              "      <td>117</td>\n",
              "      <td>21</td>\n",
              "      <td>2020-01-29</td>\n",
              "      <td>1</td>\n",
              "      <td>8.5</td>\n",
              "      <td>0</td>\n",
              "      <td>10</td>\n",
              "      <td>0.85</td>\n",
              "    </tr>\n",
              "    <tr>\n",
              "      <th>2</th>\n",
              "      <td>1</td>\n",
              "      <td>1</td>\n",
              "      <td>179</td>\n",
              "      <td>22</td>\n",
              "      <td>2020-02-02</td>\n",
              "      <td>1</td>\n",
              "      <td>10.0</td>\n",
              "      <td>0</td>\n",
              "      <td>10</td>\n",
              "      <td>1.00</td>\n",
              "    </tr>\n",
              "    <tr>\n",
              "      <th>3</th>\n",
              "      <td>1</td>\n",
              "      <td>1</td>\n",
              "      <td>195</td>\n",
              "      <td>24</td>\n",
              "      <td>2020-02-04</td>\n",
              "      <td>1</td>\n",
              "      <td>10.0</td>\n",
              "      <td>0</td>\n",
              "      <td>10</td>\n",
              "      <td>1.00</td>\n",
              "    </tr>\n",
              "    <tr>\n",
              "      <th>4</th>\n",
              "      <td>2</td>\n",
              "      <td>1</td>\n",
              "      <td>30</td>\n",
              "      <td>16</td>\n",
              "      <td>2020-01-16</td>\n",
              "      <td>0</td>\n",
              "      <td>32.0</td>\n",
              "      <td>0</td>\n",
              "      <td>40</td>\n",
              "      <td>0.80</td>\n",
              "    </tr>\n",
              "    <tr>\n",
              "      <th>...</th>\n",
              "      <td>...</td>\n",
              "      <td>...</td>\n",
              "      <td>...</td>\n",
              "      <td>...</td>\n",
              "      <td>...</td>\n",
              "      <td>...</td>\n",
              "      <td>...</td>\n",
              "      <td>...</td>\n",
              "      <td>...</td>\n",
              "      <td>...</td>\n",
              "    </tr>\n",
              "    <tr>\n",
              "      <th>387</th>\n",
              "      <td>105</td>\n",
              "      <td>3</td>\n",
              "      <td>298</td>\n",
              "      <td>26</td>\n",
              "      <td>2020-02-12</td>\n",
              "      <td>0</td>\n",
              "      <td>8.0</td>\n",
              "      <td>0</td>\n",
              "      <td>10</td>\n",
              "      <td>0.80</td>\n",
              "    </tr>\n",
              "    <tr>\n",
              "      <th>388</th>\n",
              "      <td>105</td>\n",
              "      <td>3</td>\n",
              "      <td>379</td>\n",
              "      <td>30</td>\n",
              "      <td>2020-02-22</td>\n",
              "      <td>1</td>\n",
              "      <td>8.0</td>\n",
              "      <td>0</td>\n",
              "      <td>10</td>\n",
              "      <td>0.80</td>\n",
              "    </tr>\n",
              "    <tr>\n",
              "      <th>389</th>\n",
              "      <td>105</td>\n",
              "      <td>3</td>\n",
              "      <td>404</td>\n",
              "      <td>31</td>\n",
              "      <td>2020-02-22</td>\n",
              "      <td>1</td>\n",
              "      <td>27.0</td>\n",
              "      <td>0</td>\n",
              "      <td>30</td>\n",
              "      <td>0.90</td>\n",
              "    </tr>\n",
              "    <tr>\n",
              "      <th>390</th>\n",
              "      <td>105</td>\n",
              "      <td>3</td>\n",
              "      <td>426</td>\n",
              "      <td>27</td>\n",
              "      <td>2020-02-22</td>\n",
              "      <td>1</td>\n",
              "      <td>9.0</td>\n",
              "      <td>0</td>\n",
              "      <td>10</td>\n",
              "      <td>0.90</td>\n",
              "    </tr>\n",
              "    <tr>\n",
              "      <th>391</th>\n",
              "      <td>105</td>\n",
              "      <td>3</td>\n",
              "      <td>428</td>\n",
              "      <td>29</td>\n",
              "      <td>2020-02-22</td>\n",
              "      <td>1</td>\n",
              "      <td>10.0</td>\n",
              "      <td>0</td>\n",
              "      <td>10</td>\n",
              "      <td>1.00</td>\n",
              "    </tr>\n",
              "  </tbody>\n",
              "</table>\n",
              "<p>392 rows × 10 columns</p>\n",
              "</div>"
            ],
            "text/plain": [
              "     user_id  batch_id  e_id  task_id  ... score  winner  total  percentage\n",
              "0          1         1    20       18  ...  10.0       1     10        1.00\n",
              "1          1         1   117       21  ...   8.5       0     10        0.85\n",
              "2          1         1   179       22  ...  10.0       0     10        1.00\n",
              "3          1         1   195       24  ...  10.0       0     10        1.00\n",
              "4          2         1    30       16  ...  32.0       0     40        0.80\n",
              "..       ...       ...   ...      ...  ...   ...     ...    ...         ...\n",
              "387      105         3   298       26  ...   8.0       0     10        0.80\n",
              "388      105         3   379       30  ...   8.0       0     10        0.80\n",
              "389      105         3   404       31  ...  27.0       0     30        0.90\n",
              "390      105         3   426       27  ...   9.0       0     10        0.90\n",
              "391      105         3   428       29  ...  10.0       0     10        1.00\n",
              "\n",
              "[392 rows x 10 columns]"
            ]
          },
          "metadata": {
            "tags": []
          },
          "execution_count": 219
        }
      ]
    },
    {
      "cell_type": "code",
      "metadata": {
        "id": "5plbiDpRfzB6",
        "colab_type": "code",
        "colab": {}
      },
      "source": [
        "def compare_batches(batch1,batch2):\n",
        "\n",
        "  # Extracting batch names\n",
        "  batch_name1=batch[batch['batch_id']==batch1]['batch_name'].values[0]\n",
        "  batch_name2=batch[batch['batch_id']==batch2]['batch_name'].values[0]\n",
        "\n",
        "  # Extracting the data of batch1\n",
        "  batch_data1=evaluation2[evaluation2['batch_id']==batch1]\n",
        "  # Taking the mean of percentages for a particular task and storing it in an array average1\n",
        "  average1=batch_data1.groupby('task_id').mean()['percentage'].reset_index()\n",
        "\n",
        "  # Same operations for batch2\n",
        "  batch_data2=evaluation2[evaluation2['batch_id']==batch2]\n",
        "  average2=batch_data2.groupby('task_id').mean()['percentage'].reset_index()\n",
        "\n",
        "\n",
        "  # Plotting the average percentages for the two batches \n",
        "  plt.subplots(figsize=(15,7))\n",
        "  plt.plot(average1['task_id'],average1['percentage'],label=batch_name1)\n",
        "  plt.plot(average2['task_id'],average2['percentage'],label=batch_name2)\n",
        "  plt.legend()\n",
        "  plt.xlabel('Task Id')\n",
        "  plt.ylabel('Average Class Percentage')\n",
        "  plt.title('CLass Percentage vs Tasks for different batches')\n",
        "  plt.show()"
      ],
      "execution_count": 0,
      "outputs": []
    },
    {
      "cell_type": "code",
      "metadata": {
        "id": "ul9Z5o87f5E9",
        "colab_type": "code",
        "outputId": "2fa48469-065c-421c-f1e5-8fb5bfcfb902",
        "colab": {
          "base_uri": "https://localhost:8080/",
          "height": 457
        }
      },
      "source": [
        "compare_batches(1,3)"
      ],
      "execution_count": 0,
      "outputs": [
        {
          "output_type": "display_data",
          "data": {
            "image/png": "[encoded data removed]",
            "text/plain": [
              "<Figure size 1080x504 with 1 Axes>"
            ]
          },
          "metadata": {
            "tags": []
          }
        }
      ]
    },
    {
      "cell_type": "code",
      "metadata": {
        "id": "yy079wHnf8jS",
        "colab_type": "code",
        "outputId": "3b6826bb-f911-413c-cccc-cc64a6db0592",
        "colab": {
          "base_uri": "https://localhost:8080/",
          "height": 457
        }
      },
      "source": [
        "compare_batches(2,3)"
      ],
      "execution_count": 0,
      "outputs": [
        {
          "output_type": "display_data",
          "data": {
            "image/png": "[encoded data removed]",
            "text/plain": [
              "<Figure size 1080x504 with 1 Axes>"
            ]
          },
          "metadata": {
            "tags": []
          }
        }
      ]
    },
    {
      "cell_type": "code",
      "metadata": {
        "id": "Mep4hnrogAbP",
        "colab_type": "code",
        "outputId": "8c11d30a-56f2-412f-9f1e-f6d098272560",
        "colab": {
          "base_uri": "https://localhost:8080/",
          "height": 457
        }
      },
      "source": [
        "compare_batches(1,2)"
      ],
      "execution_count": 0,
      "outputs": [
        {
          "output_type": "display_data",
          "data": {
            "image/png": "[encoded data removed]",
            "text/plain": [
              "<Figure size 1080x504 with 1 Axes>"
            ]
          },
          "metadata": {
            "tags": []
          }
        }
      ]
    },
    {
      "cell_type": "code",
      "metadata": {
        "id": "GrC4LmHOowe7",
        "colab_type": "code",
        "colab": {}
      },
      "source": [
        ""
      ],
      "execution_count": 0,
      "outputs": []
    },
    {
      "cell_type": "code",
      "metadata": {
        "id": "podHmlUJowSO",
        "colab_type": "code",
        "colab": {}
      },
      "source": [
        ""
      ],
      "execution_count": 0,
      "outputs": []
    },
    {
      "cell_type": "markdown",
      "metadata": {
        "id": "YBW2zMk6NuA4",
        "colab_type": "text"
      },
      "source": [
        "**Problem 6** : Surprise us\n",
        "\n",
        "**Description**: Find something(point/points of analysis) that might surprise us\n",
        "\n",
        "**Marks - 50**"
      ]
    },
    {
      "cell_type": "code",
      "metadata": {
        "id": "ldLg7H7soWUF",
        "colab_type": "code",
        "colab": {}
      },
      "source": [
        "# I will not write any comments while writing code. I will only give the conclusion of \n",
        "# what that code does to maintain the surprise element"
      ],
      "execution_count": 0,
      "outputs": []
    },
    {
      "cell_type": "code",
      "metadata": {
        "id": "f4Z8f--tklTy",
        "colab_type": "code",
        "colab": {}
      },
      "source": [
        "def surprise(user_ids):\n",
        "  interest=dict()\n",
        "  for i in user_ids:\n",
        "    user_name=users[users['user_id']==i]['fname'].values[0]\n",
        "\n",
        "    interest[user_name]=gyan[gyan['user_id']==i]['category'].value_counts().head(3).index.to_numpy()\n",
        "  return interest"
      ],
      "execution_count": 0,
      "outputs": []
    },
    {
      "cell_type": "code",
      "metadata": {
        "id": "qN8VLwqAmkYx",
        "colab_type": "code",
        "outputId": "4617e245-d78a-44ee-9d37-ce48b5b661e2",
        "colab": {
          "base_uri": "https://localhost:8080/",
          "height": 82
        }
      },
      "source": [
        "surprise([77,78,79])"
      ],
      "execution_count": 0,
      "outputs": [
        {
          "output_type": "execute_result",
          "data": {
            "text/plain": [
              "{'Balaka': array(['Artificial Intelligence', 'Machine Learning', 'Data Science'],\n",
              "       dtype=object),\n",
              " 'Rajtilak': array(['General', 'Deep Learning', 'Tools'], dtype=object),\n",
              " 'Srinjoy': array(['General', 'Artificial Intelligence'], dtype=object)}"
            ]
          },
          "metadata": {
            "tags": []
          },
          "execution_count": 226
        }
      ]
    },
    {
      "cell_type": "code",
      "metadata": {
        "id": "0f12dySAmm9f",
        "colab_type": "code",
        "outputId": "8a584b15-1448-44c4-a58f-8f997d8aba4f",
        "colab": {
          "base_uri": "https://localhost:8080/",
          "height": 98
        }
      },
      "source": [
        "surprise([80,81,82])"
      ],
      "execution_count": 0,
      "outputs": [
        {
          "output_type": "execute_result",
          "data": {
            "text/plain": [
              "{'Diganta': array(['Machine Learning', 'Artificial Intelligence', 'Deep Learning'],\n",
              "       dtype=object),\n",
              " 'Rahul': array(['Artificial Intelligence', 'General'], dtype=object),\n",
              " 'SHUBHOBRATA': array(['Artificial Intelligence', 'Machine Learning', 'Deep Learning'],\n",
              "       dtype=object)}"
            ]
          },
          "metadata": {
            "tags": []
          },
          "execution_count": 227
        }
      ]
    },
    {
      "cell_type": "markdown",
      "metadata": {
        "id": "w0LXfNdSnB_G",
        "colab_type": "text"
      },
      "source": [
        "**The above function returns the top 3 fields of interest of the students passed as user ids in a dictionary. Now it is the job of the evaluator to find out how i got the fields of interest of the students.**"
      ]
    },
    {
      "cell_type": "code",
      "metadata": {
        "id": "hkfFdaOlo0GY",
        "colab_type": "code",
        "colab": {}
      },
      "source": [
        ""
      ],
      "execution_count": 0,
      "outputs": []
    },
    {
      "cell_type": "markdown",
      "metadata": {
        "id": "VKpFyzJonhVM",
        "colab_type": "text"
      },
      "source": [
        "## Thank You for setting up this Hackathon. Really, really enjoyed it. Its very important to sharpen up the brain in a little while. This Hackathon did that. Thank You very much."
      ]
    },
    {
      "cell_type": "code",
      "metadata": {
        "id": "UQrMntOsoBBy",
        "colab_type": "code",
        "colab": {}
      },
      "source": [
        ""
      ],
      "execution_count": 0,
      "outputs": []
    }
  ]
}